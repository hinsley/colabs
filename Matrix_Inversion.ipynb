{
  "nbformat": 4,
  "nbformat_minor": 0,
  "metadata": {
    "colab": {
      "name": "Matrix Inversion.ipynb",
      "provenance": [],
      "collapsed_sections": [],
      "include_colab_link": true
    },
    "kernelspec": {
      "name": "python3",
      "display_name": "Python 3"
    }
  },
  "cells": [
    {
      "cell_type": "markdown",
      "metadata": {
        "id": "view-in-github",
        "colab_type": "text"
      },
      "source": [
        "<a href=\"https://colab.research.google.com/github/hinsley/colabs/blob/master/Matrix_Inversion.ipynb\" target=\"_parent\"><img src=\"https://colab.research.google.com/assets/colab-badge.svg\" alt=\"Open In Colab\"/></a>"
      ]
    },
    {
      "cell_type": "markdown",
      "metadata": {
        "id": "J8jiKE5aR3LX",
        "colab_type": "text"
      },
      "source": [
        "# Matrix inversion using Laplace expansion"
      ]
    },
    {
      "cell_type": "code",
      "metadata": {
        "id": "Zy2gyy9QAkA-",
        "colab_type": "code",
        "colab": {}
      },
      "source": [
        "matrix = [[1, 2, 0],\n",
        "          [4, 5, 6],\n",
        "          [7, 8, 9]]"
      ],
      "execution_count": 0,
      "outputs": []
    },
    {
      "cell_type": "code",
      "metadata": {
        "id": "DQABAjSUKmsf",
        "colab_type": "code",
        "colab": {}
      },
      "source": [
        "def first_minor(matrix, row_exclusion, column_exclusion):\n",
        "  return [[matrix[row_id][column_id] for\n",
        "           column_id in\n",
        "           range(len(matrix[row_id])) if\n",
        "           column_id != column_exclusion] for\n",
        "          row_id in range(len(matrix)) if\n",
        "          row_id != row_exclusion]"
      ],
      "execution_count": 0,
      "outputs": []
    },
    {
      "cell_type": "code",
      "metadata": {
        "id": "898kTMjyO23z",
        "colab_type": "code",
        "colab": {}
      },
      "source": [
        "def diagonal_mirror(matrix):\n",
        "  return [[matrix[column_id][row_id] for\n",
        "           column_id in range(len(matrix[row_id]))] for\n",
        "          row_id in range(len(matrix))]"
      ],
      "execution_count": 0,
      "outputs": []
    },
    {
      "cell_type": "code",
      "metadata": {
        "id": "k5_8O09nA3NW",
        "colab_type": "code",
        "outputId": "7319b4d9-fe76-4066-d7c4-0b6b4b0a0ffb",
        "colab": {
          "base_uri": "https://localhost:8080/",
          "height": 35
        }
      },
      "source": [
        "def determinant(matrix):\n",
        "  # Undefined behavior will occur when supplied a non-square matrix.\n",
        "  \n",
        "  def factor_pair(matrix, scalar_column):\n",
        "    scalar = matrix[0][scalar_column]\n",
        "    \n",
        "    minor = first_minor(matrix, 0, scalar_column)\n",
        "    \n",
        "    return scalar, minor\n",
        "  \n",
        "  def determinant_term(scalar_column):\n",
        "    scalar, minor = factor_pair(matrix, scalar_column)\n",
        "\n",
        "    if len(minor) == 1:\n",
        "      return scalar * minor[0][0]\n",
        "    else:\n",
        "      return scalar * determinant(minor)\n",
        "    \n",
        "  return sum([determinant_term(term) * ((-1) ** (2 - (term % 2))) for term in range(len(matrix))])\n",
        "\n",
        "determinant(matrix)"
      ],
      "execution_count": 5,
      "outputs": [
        {
          "output_type": "execute_result",
          "data": {
            "text/plain": [
              "9"
            ]
          },
          "metadata": {
            "tags": []
          },
          "execution_count": 5
        }
      ]
    },
    {
      "cell_type": "code",
      "metadata": {
        "id": "H6iVGBWENY8O",
        "colab_type": "code",
        "outputId": "b41c3300-1992-4afa-d67e-786d982b6c30",
        "colab": {
          "base_uri": "https://localhost:8080/",
          "height": 72
        }
      },
      "source": [
        "def invert(matrix):\n",
        "  inverted_determinant = 1 / determinant(matrix)\n",
        "  \n",
        "  determinant_matrix = [[determinant(first_minor(matrix, row_id, column_id)) * ((-1) ** (2 - (column_id + row_id * len(matrix[row_id])) % 2)) for\n",
        "                         column_id in range(len(matrix[row_id]))] for\n",
        "                        row_id in range(len(matrix))]\n",
        "  \n",
        "  return diagonal_mirror([[inverted_determinant * column for column in row] for row in determinant_matrix])\n",
        "\n",
        "invert(matrix)"
      ],
      "execution_count": 6,
      "outputs": [
        {
          "output_type": "execute_result",
          "data": {
            "text/plain": [
              "[[-0.3333333333333333, -2.0, 1.3333333333333333],\n",
              " [0.6666666666666666, 1.0, -0.6666666666666666],\n",
              " [-0.3333333333333333, 0.6666666666666666, -0.3333333333333333]]"
            ]
          },
          "metadata": {
            "tags": []
          },
          "execution_count": 6
        }
      ]
    },
    {
      "cell_type": "code",
      "metadata": {
        "id": "iBAv5t0GOC_3",
        "colab_type": "code",
        "outputId": "5f35a15f-2a32-47e6-d418-b58eea063bcc",
        "colab": {
          "base_uri": "https://localhost:8080/",
          "height": 72
        }
      },
      "source": [
        "import numpy as np\n",
        "\n",
        "np.linalg.inv(matrix)"
      ],
      "execution_count": 8,
      "outputs": [
        {
          "output_type": "execute_result",
          "data": {
            "text/plain": [
              "array([[-0.33333333, -2.        ,  1.33333333],\n",
              "       [ 0.66666667,  1.        , -0.66666667],\n",
              "       [-0.33333333,  0.66666667, -0.33333333]])"
            ]
          },
          "metadata": {
            "tags": []
          },
          "execution_count": 8
        }
      ]
    }
  ]
}