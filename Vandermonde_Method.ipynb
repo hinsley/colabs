{
  "nbformat": 4,
  "nbformat_minor": 0,
  "metadata": {
    "colab": {
      "name": "Vandermonde Method.ipynb",
      "provenance": [],
      "authorship_tag": "ABX9TyORGYlmrq3Wyai/jF9sY8Kl",
      "include_colab_link": true
    },
    "kernelspec": {
      "name": "python3",
      "display_name": "Python 3"
    }
  },
  "cells": [
    {
      "cell_type": "markdown",
      "metadata": {
        "id": "view-in-github",
        "colab_type": "text"
      },
      "source": [
        "<a href=\"https://colab.research.google.com/github/hinsley/colabs/blob/master/Vandermonde_Method.ipynb\" target=\"_parent\"><img src=\"https://colab.research.google.com/assets/colab-badge.svg\" alt=\"Open In Colab\"/></a>"
      ]
    },
    {
      "cell_type": "markdown",
      "metadata": {
        "id": "F5lea5rY00gD",
        "colab_type": "text"
      },
      "source": [
        "# The Vandermonde Method of Lowest-Degree Polynomial Interpolation\n",
        "\n",
        "Given a set of points $S = (x_1, p(x_1)), (x_2, p(x_2)), \\dots, (x_n, p(x_n))$, we can construct the polynomial of lowest degree $p(x)$ which passes through each point with the following structure:\n",
        "\n",
        "$p(x) = \\sum_{i=1}^n c_ix^{n-i}$\n",
        "\n",
        "In order to find the constants $c_1, c_2, \\dots, c_n$, each point $(x_j, p(x_j)) \\in S$ can be substituted into the above equation, like so:\n",
        "\n",
        "$p(x_j) = \\sum_{i=1}^n c_ix_j^{n-i}$\n",
        "\n",
        "Solving $c_k$ for arbitrary $k$ is now as simple as solving a system of linear equations. The resultant *Vandermonde Matrix* can be reduced using [Gauss-Jordan elimination](https://en.wikipedia.org/wiki/Gaussian_elimination). Following is an example of the Vandermonde Matrix for a sample of 5 points:\n",
        "\n",
        "$\\begin{bmatrix} \\left. \\begin{matrix} & {x_1}^4 & {x_1}^3 & {x_1}^2 & {x_1}^1 & {x_1}^0 \\\\ & {x_2}^4 & {x_2}^3 & {x_2}^2 & {x_2}^1 & {x_2}^0 \\\\ & {x_3}^4 & {x_3}^3 & {x_3}^2 & {x_3}^1 & {x_3}^0 \\\\ & {x_4}^4 & {x_4}^3 & {x_4}^2 & {x_4}^1 & {x_4}^0 \\\\ & {x_5}^4 & {x_5}^3 & {x_5}^2 & {x_5}^1 & {x_5}^0 \\end{matrix} \\right| \\begin{matrix} -p(x_1) & \\\\ -p(x_2) & \\\\ -p(x_3) & \\\\ -p(x_4) & \\\\ -p(x_5) & \\end{matrix} \\end{bmatrix}$\n",
        "\n",
        "Manipulating this matrix into reduced row-echelon form will produce the following result:\n",
        "\n",
        "$\\begin{bmatrix} \\left. \\begin{matrix} & 1 & 0 & 0 & 0 & 0 \\\\ & 0 & 1 & 0 & 0 & 0 \\\\ & 0 & 0 & 1 & 0 & 0 \\\\ & 0 & 0 & 0 & 1 & 0 \\\\ & 0 & 0 & 0 & 0 & 1 \\end{matrix} \\right| \\begin{matrix} c_1 & \\\\ c_2 & \\\\ c_3 & \\\\ c_4 & \\\\ c_5 & \\end{matrix} \\end{bmatrix}$\n",
        "\n",
        "From the last column in this matrix we now know $c_k$ and can construct a $p(x)$ that fits our set of points $S$.\n",
        "\n",
        "Evaluating $p(x)$ for arbitrary $x$ is now trivial via [Horner's method](https://en.wikipedia.org/wiki/Horner%27s_method), eliminating redundant exponentiation:\n",
        "\n",
        "$p(x) = c_1 + x(c_2 + x(c_3 + x(\\dots (c_n))))\\dots$"
      ]
    },
    {
      "cell_type": "code",
      "metadata": {
        "id": "Zw40uGnZozI5",
        "colab_type": "code",
        "colab": {}
      },
      "source": [
        "import numpy as np\n",
        "from typing import Callable, List, Tuple\n",
        "\n",
        "def vandermonde(points: List[Tuple[float, float]]) -> Callable[[float], float]:\n",
        "  if len(points) == 0:\n",
        "    return None\n",
        "  \n",
        "  vandermonde_matrix = [[x ** i for i in reversed(range(len(points)))] for x, y in points]\n",
        "\n",
        "  coefficients = np.linalg.solve(vandermonde_matrix, [y for x, y in points])\n",
        "\n",
        "  def interpolation(x: float) -> float:\n",
        "    accumulator = coefficients[0]\n",
        "    for coefficient in coefficients[1:]:\n",
        "      accumulator *= x\n",
        "      accumulator += coefficient\n",
        "    return accumulator\n",
        "  \n",
        "  return interpolation"
      ],
      "execution_count": 0,
      "outputs": []
    },
    {
      "cell_type": "code",
      "metadata": {
        "id": "UKaKClmjwJ0W",
        "colab_type": "code",
        "colab": {}
      },
      "source": [
        "points = [\n",
        "  (2, 5),\n",
        "  (3, 6),\n",
        "  (6.8, 12),\n",
        "  (7, 4),\n",
        "]\n",
        "\n",
        "polynomial = vandermonde(points)"
      ],
      "execution_count": 0,
      "outputs": []
    },
    {
      "cell_type": "code",
      "metadata": {
        "id": "940Gq_XuwM5I",
        "colab_type": "code",
        "colab": {
          "base_uri": "https://localhost:8080/",
          "height": 265
        },
        "outputId": "ed775e66-69a9-4462-e02c-809014725b5c"
      },
      "source": [
        "from matplotlib import pyplot as plt\n",
        "\n",
        "xs, ys = zip(*points)\n",
        "\n",
        "plt.scatter(xs, ys)\n",
        "\n",
        "interpolation_xs = np.linspace(min(xs), max(xs))\n",
        "interpolation_ys = [polynomial(x) for x in interpolation_xs]\n",
        "\n",
        "plt.plot(interpolation_xs, interpolation_ys)\n",
        "plt.show()"
      ],
      "execution_count": 3,
      "outputs": [
        {
          "output_type": "display_data",
          "data": {
            "image/png": "[encoded data removed]",
            "text/plain": [
              "<Figure size 432x288 with 1 Axes>"
            ]
          },
          "metadata": {
            "tags": []
          }
        }
      ]
    }
  ]
}