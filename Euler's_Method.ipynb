{
  "nbformat": 4,
  "nbformat_minor": 0,
  "metadata": {
    "colab": {
      "name": "Euler's Method.ipynb",
      "provenance": [],
      "authorship_tag": "ABX9TyP5EBi7ApzQocZlqKxWoZ4A",
      "include_colab_link": true
    },
    "kernelspec": {
      "name": "python3",
      "display_name": "Python 3"
    }
  },
  "cells": [
    {
      "cell_type": "markdown",
      "metadata": {
        "id": "view-in-github",
        "colab_type": "text"
      },
      "source": [
        "<a href=\"https://colab.research.google.com/github/hinsley/colabs/blob/master/Euler's_Method.ipynb\" target=\"_parent\"><img src=\"https://colab.research.google.com/assets/colab-badge.svg\" alt=\"Open In Colab\"/></a>"
      ]
    },
    {
      "cell_type": "code",
      "metadata": {
        "id": "Xw1dZ2ZRRbFx",
        "colab_type": "code",
        "colab": {}
      },
      "source": [
        "def euler(f, y0, a, b, h):\n",
        "\tx, y = a, y0\n",
        "\twhile x <= b:\n",
        "\t\tprint(f\"({x:6.3f}, {y:6.3f})\")\n",
        "\t\tx += h\n",
        "\t\ty += h * f(x, y)"
      ],
      "execution_count": 0,
      "outputs": []
    },
    {
      "cell_type": "code",
      "metadata": {
        "id": "vlQoC6T9SVBi",
        "colab_type": "code",
        "colab": {}
      },
      "source": [
        "def f(x, y):\n",
        "  return -0.07 * (y - 20)"
      ],
      "execution_count": 0,
      "outputs": []
    },
    {
      "cell_type": "code",
      "metadata": {
        "id": "aRsWudYfSi0d",
        "colab_type": "code",
        "colab": {
          "base_uri": "https://localhost:8080/",
          "height": 204
        },
        "outputId": "564bceb3-6389-4c53-e34f-e9f18f785716"
      },
      "source": [
        "euler(\n",
        "    f=f,\n",
        "    y0=100,\n",
        "    a=0,\n",
        "    b=100,\n",
        "    h=10,\n",
        ")"
      ],
      "execution_count": 8,
      "outputs": [
        {
          "output_type": "stream",
          "text": [
            "( 0.000, 100.000)\n",
            "(10.000, 44.000)\n",
            "(20.000, 27.200)\n",
            "(30.000, 22.160)\n",
            "(40.000, 20.648)\n",
            "(50.000, 20.194)\n",
            "(60.000, 20.058)\n",
            "(70.000, 20.017)\n",
            "(80.000, 20.005)\n",
            "(90.000, 20.002)\n",
            "(100.000, 20.000)\n"
          ],
          "name": "stdout"
        }
      ]
    },
    {
      "cell_type": "code",
      "metadata": {
        "id": "XTfZB7eQSsXk",
        "colab_type": "code",
        "colab": {}
      },
      "source": [
        ""
      ],
      "execution_count": 0,
      "outputs": []
    }
  ]
}