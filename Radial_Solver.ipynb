{
  "nbformat": 4,
  "nbformat_minor": 0,
  "metadata": {
    "colab": {
      "name": "Radial Solver.ipynb",
      "provenance": [],
      "collapsed_sections": [
        "OGynUY7CAp_u"
      ],
      "authorship_tag": "ABX9TyPD9aYVBnfWxG4AGtgFTQMg",
      "include_colab_link": true
    },
    "kernelspec": {
      "name": "python3",
      "display_name": "Python 3"
    }
  },
  "cells": [
    {
      "cell_type": "markdown",
      "metadata": {
        "id": "view-in-github",
        "colab_type": "text"
      },
      "source": [
        "<a href=\"https://colab.research.google.com/github/hinsley/colabs/blob/master/Radial_Solver.ipynb\" target=\"_parent\"><img src=\"https://colab.research.google.com/assets/colab-badge.svg\" alt=\"Open In Colab\"/></a>"
      ]
    },
    {
      "cell_type": "code",
      "metadata": {
        "id": "C3761uOEVYWj",
        "colab_type": "code",
        "cellView": "form",
        "colab": {}
      },
      "source": [
        "#@title Setup\n",
        "\n",
        "import numpy as np\n",
        "import pandas as pd\n",
        "from scipy.optimize import curve_fit\n",
        "from matplotlib import pyplot as plt\n",
        "from IPython.display import display"
      ],
      "execution_count": 0,
      "outputs": []
    },
    {
      "cell_type": "code",
      "metadata": {
        "id": "MDQBD68cVSI0",
        "colab_type": "code",
        "colab": {},
        "cellView": "form"
      },
      "source": [
        "#@title Solver\n",
        "def solve(x1, y1, x2, y2, x3, y3):\n",
        "  y0 = (y1 + y2 - (((x3 - x1) * (x3 - x2))/(y3 - y1) - y2 + y3)/(((x3 - x1) * (y2 - y1))/((x2 - x1) * (y3 - y1)) - 1)) / 2\n",
        "  x0 = ((y2 - y1) * (y2 + y1 - 2 * y0)/(x2 - x1) + x1 + x2) / 2\n",
        "  r = ((x1 - x0) ** 2 + (y1 - y0) ** 2) ** 0.5\n",
        "\n",
        "  return x0, y0, r"
      ],
      "execution_count": 0,
      "outputs": []
    },
    {
      "cell_type": "code",
      "metadata": {
        "id": "Z4NgxlJOVxXY",
        "colab_type": "code",
        "cellView": "form",
        "outputId": "c91f76c4-8112-41ed-ea14-be066e1b70e4",
        "colab": {
          "base_uri": "https://localhost:8080/",
          "height": 529
        }
      },
      "source": [
        "#@title { run: \"auto\" }\n",
        "\n",
        "#@markdown Enter your 3 points:\n",
        "\n",
        "x1 = 0 #@param { type: \"number\" }\n",
        "y1 =  2#@param { type: \"number\" }\n",
        "#@markdown ---\n",
        "x2 =  3#@param { type: \"number\" }\n",
        "y2 =  4#@param { type: \"number\" }\n",
        "#@markdown ---\n",
        "x3 =  11#@param { type: \"number\" }\n",
        "y3 =  110#@param { type: \"number\" }\n",
        "\n",
        "points = np.array([(x1, y1), (x2, y2), (x3, y3)])\n",
        "\n",
        "points_df = pd.DataFrame(points)\n",
        "points_df.columns = [\"x\", \"y\"]\n",
        "\n",
        "print(\"You entered:\")\n",
        "\n",
        "display(points_df)\n",
        "\n",
        "# Solve for circle.\n",
        "\n",
        "x0, y0, r = solve(x1, y1, x2, y2, x3, y3)\n",
        "circle = plt.Circle((x0, y0), r, fill=False)\n",
        "\n",
        "scaling = 7.5, 5\n",
        "fig, ax = plt.subplots(figsize=scaling, facecolor=\"white\")\n",
        "\n",
        "ax.set_title(\"Radius Visualization\")\n",
        "\n",
        "ax.add_artist(circle)\n",
        "ax.scatter(points_df[\"x\"], points_df[\"y\"])\n",
        "\n",
        "ax.axis(\"equal\") # Equal aspect ratio ensures that curve is drawn as a semicircle.\n",
        "\n",
        "plt.show()\n",
        "\n",
        "print(\"Results:\")\n",
        "print(f\"- Center of circle: ({x0:.4f}, {y0:.4f})\")\n",
        "print(f\"- Radius: {r:.4f}\")"
      ],
      "execution_count": 27,
      "outputs": [
        {
          "output_type": "stream",
          "text": [
            "You entered:\n"
          ],
          "name": "stdout"
        },
        {
          "output_type": "display_data",
          "data": {
            "text/html": [
              "<div>\n",
              "<style scoped>\n",
              "    .dataframe tbody tr th:only-of-type {\n",
              "        vertical-align: middle;\n",
              "    }\n",
              "\n",
              "    .dataframe tbody tr th {\n",
              "        vertical-align: top;\n",
              "    }\n",
              "\n",
              "    .dataframe thead th {\n",
              "        text-align: right;\n",
              "    }\n",
              "</style>\n",
              "<table border=\"1\" class=\"dataframe\">\n",
              "  <thead>\n",
              "    <tr style=\"text-align: right;\">\n",
              "      <th></th>\n",
              "      <th>x</th>\n",
              "      <th>y</th>\n",
              "    </tr>\n",
              "  </thead>\n",
              "  <tbody>\n",
              "    <tr>\n",
              "      <th>0</th>\n",
              "      <td>0</td>\n",
              "      <td>2</td>\n",
              "    </tr>\n",
              "    <tr>\n",
              "      <th>1</th>\n",
              "      <td>3</td>\n",
              "      <td>4</td>\n",
              "    </tr>\n",
              "    <tr>\n",
              "      <th>2</th>\n",
              "      <td>11</td>\n",
              "      <td>110</td>\n",
              "    </tr>\n",
              "  </tbody>\n",
              "</table>\n",
              "</div>"
            ],
            "text/plain": [
              "    x    y\n",
              "0   0    2\n",
              "1   3    4\n",
              "2  11  110"
            ]
          },
          "metadata": {
            "tags": []
          }
        },
        {
          "output_type": "display_data",
          "data": {
            "image/png": "[encoded data removed]",
            "text/plain": [
              "<Figure size 540x360 with 1 Axes>"
            ]
          },
          "metadata": {
            "tags": []
          }
        },
        {
          "output_type": "stream",
          "text": [
            "Results:\n",
            "- Center of circle: (-36.6987, 60.2980)\n",
            "- Radius: 68.8872\n"
          ],
          "name": "stdout"
        }
      ]
    },
    {
      "cell_type": "markdown",
      "metadata": {
        "id": "hULm-gf5yVVu",
        "colab_type": "text"
      },
      "source": [
        "# Solving the curve"
      ]
    },
    {
      "cell_type": "markdown",
      "metadata": {
        "id": "Y7HMUtawAuII",
        "colab_type": "text"
      },
      "source": [
        "$(x_1 - x_0)^2 + (y_1 - y_0)^2 = r^2$\n",
        "\n",
        "$(x_2 - x_0)^2 + (y_2 - y_0)^2 = r^2$\n",
        "\n",
        "$(x_3 - x_0)^2 + (y_3 - y_0)^2 = r^2$"
      ]
    },
    {
      "cell_type": "markdown",
      "metadata": {
        "id": "OGynUY7CAp_u",
        "colab_type": "text"
      },
      "source": [
        "## Solving for $x_0$"
      ]
    },
    {
      "cell_type": "markdown",
      "metadata": {
        "id": "C3YDy_ZHAhE2",
        "colab_type": "text"
      },
      "source": [
        "$(x_1 - x_0)^2 + (y_1 - y_0)^2 = (x_2 - x_0)^2 + (y_2 - y_0)^2$\n",
        "\n",
        "\\\n",
        "\n",
        "$(x_1 - x_0)^2 = (x_2 - x_0)^2 + (y_2 - y_0)^2 - (y_1 - y_0)^2$\n",
        "\n",
        "\\\n",
        "\n",
        "$(x_1 - x_0)^2 - (x_2 - x_0)^2 = (y_2 - y_0)^2 - (y_1 - y_0)^2$\n",
        "\n",
        "\\\n",
        "\n",
        "$x_1^2 - 2x_0x_1 + x_0^2 - x_2^2 + 2x_0x_2 - x_0^2 = (y_2 - y_0)^2 - (y_1 - y_0)^2$\n",
        "\n",
        "\\\n",
        "\n",
        "$x_0[2(x_2 - x_1)] = (y_2 - y_0)^2 - (y_1 - y_0)^2 - x_1^2 + x_2^2$\n",
        "\n",
        "\\\n",
        "\n",
        "$x_0[2(x_2 - x_1)] = (y_2 - y_0)^2 - (y_1 - y_0)^2 + (x_2 + x_1)(x_2 - x_1)$\n",
        "\n",
        "\\\n",
        "\n",
        "$x_0 = \\frac12 \\left(\\frac{y_2^2 - y_1^2 + 2y_0(y_1 - y_2)}{x_2 - x_1} + x_1 + x_2\\right)$\n",
        "\n",
        "\\\n",
        "\n",
        "$x_0 = \\frac12 \\left(\\frac{(y_2 - y_1)(y_2 + y_1 - 2y_0)}{x_2 - x_1} + x_1 + x_2\\right)$"
      ]
    },
    {
      "cell_type": "markdown",
      "metadata": {
        "id": "q8_PKpFsAj63",
        "colab_type": "text"
      },
      "source": [
        "## Solving for $y_0$"
      ]
    },
    {
      "cell_type": "markdown",
      "metadata": {
        "id": "OeNL3Kq9A0dA",
        "colab_type": "text"
      },
      "source": [
        "$(x_1 - x_0)^2 + (y_1 - y_0)^2 = (x_3 - x_0)^2 + (y_3 - y_0)^2$\n",
        "\n",
        "\\\n",
        "\n",
        "$(y_1 - y_0)^2 - (y_3 - y_0)^2 = (x_3 - x_0)^2 - (x_1 - x_0)^2$\n",
        "\n",
        "\\\n",
        "\n",
        "$y_1^2 - 2y_0y_1 + y_0^2 - y_3^2 + 2y_0y_3 - y_0^2 = (x_3 - x_0)^2 - (x_1 - x_0)^2$\n",
        "\n",
        "\\\n",
        "\n",
        "$y_1^2 - y_3^2 + y_0[2(y_3 - y_1)] = (x_3 - x_0)^2 - (x_1 - x_0)^2$\n",
        "\n",
        "\\\n",
        "\n",
        "$y_0(y_3 - y_1) = \\frac12 \\left[ (x_3 - x_0)^2 - (x_1 - x_0)^2 + y_3^2 - y_1^2 \\right]$\n",
        "\n",
        "\\\n",
        "\n",
        "$y_0(y_3 - y_1) = \\frac12 \\left[ (x_3 - x_0)^2 - (x_1 - x_0)^2 + (y_3 + y_1)(y_3 - y_1) \\right]$\n",
        "\n",
        "\\\n",
        "\n",
        "$y_0 = \\frac12 \\left[ \\frac{(x_3 - x_0)^2 - (x_1 - x_0)^2}{y_3 - y_1} + y_1 + y_3 \\right]$\n",
        "\n",
        "\\\n",
        "\n",
        "$y_0 = \\frac12 \\left[ \\frac{x_3^2 - 2x_0x_3 - x_1^2 + 2x_0x_1}{y_3 - y_1} + y_1 + y_3 \\right]$\n",
        "\n",
        "\\\n",
        "\n",
        "$y_0 = \\frac12 \\left[ \\frac{x_3^2 - x_1^2 + 2x_0(x_1 - x_3)}{y_3 - y_1} + y_1 + y_3 \\right]$\n",
        "\n",
        "\\\n",
        "\n",
        "$y_0 = \\frac12 \\left[ \\frac{(x_3 - x_1)(x_3 + x_1 - 2x_0)}{y_3 - y_1} + y_1 + y_3 \\right]$\n",
        "\n",
        "---\n",
        "\n",
        "$y_0 = \\frac12 \\left[ \\frac{(x_3 - x_1)(x_3 + x_1 - 2\\left\\{ \\frac12 \\left(\\frac{(y_2 - y_1)(y_2 + y_1 - 2y_0)}{x_2 - x_1} + x_1 + x_2\\right) \\right\\})}{y_3 - y_1} + y_1 + y_3 \\right]$\n",
        "\n",
        "\\\n",
        "\n",
        "$y_0 = \\frac12 \\left[ \\frac{(x_3 - x_1)(x_3 - \\frac{(y_2 - y_1)(y_2 + y_1 - 2y_0)}{x_2 - x_1} - x_2)}{y_3 - y_1} + y_1 + y_3 \\right]$\n",
        "\n",
        "\\\n",
        "\n",
        "$y_0 = \\frac12 \\left[ \\frac{\\frac{x_3 - x_1}{x_2 - x_1}[(x_3 - x_2)(x_2 - x_1) - (y_2 - y_1)(y_2 + y_1 - 2y_0)]}{y_3 - y_1} + y_1 + y_3 \\right]$\n",
        "\n",
        "\\\n",
        "\n",
        "$y_0 = \\frac12 \\left[ \\frac{\\frac{x_3 - x_1}{x_2 - x_1}(x_3 - x_2)(x_2 - x_1)}{y_3 - y_1} - \\frac{(x_3 - x_1)(y_2 - y_1)(y_2 + y_1 - 2y_0)}{(x_2 - x_1)(y_3 - y_1)} + y_1 + y_3 \\right]$\n",
        "\n",
        "\\\n",
        "\n",
        "$y_0 = \\frac12 \\left[ \\frac{\\frac{x_3 - x_1}{x_2 - x_1}(x_3 - x_2)(x_2 - x_1)}{y_3 - y_1} - \\frac{(x_3 - x_1)(y_2 - y_1)(y_2 + y_1 - 2y_0)}{(x_2 - x_1)(y_3 - y_1)} + y_1 + y_3 \\right]$\n",
        "\n",
        "\\\n",
        "\n",
        "$y_0 = \\frac{\\frac{x_3 - x_1}{x_2 - x_1}(x_3 - x_2)(x_2 - x_1) + y_3^2 - y_1^2}{2(y_3 - y_1)}- \\frac{(x_3 - x_1)(y_2 - y_1)}{2(x_2 - x_1)(y_3 - y_1)}(y_2 + y_1 - 2y_0)$\n",
        "\n",
        "\\\n",
        "\n",
        "$\\frac12 \\left[ 2y_0 + \\frac{(x_3 - x_1)(y_2 - y_1)}{(x_2 - x_1)(y_3 - y_1)}(y_2 + y_1 - 2y_0) \\right] = \\frac{\\frac{x_3 - x_1}{x_2 - x_1}(x_3 - x_2)(x_2 - x_1) + y_3^2 - y_1^2}{2(y_3 - y_1)}$\n",
        "\n",
        "\\\n",
        "\n",
        "$\\frac12 \\left[ y_2 + y_1 - (y_2 + y_1 - 2y_0) + \\frac{(x_3 - x_1)(y_2 - y_1)}{(x_2 - x_1)(y_3 - y_1)}(y_2 + y_1 - 2y_0) \\right] = \\frac{\\frac{x_3 - x_1}{x_2 - x_1}(x_3 - x_2)(x_2 - x_1) + y_3^2 - y_1^2}{2(y_3 - y_1)}$\n",
        "\n",
        "\\\n",
        "\n",
        "$\\frac{(x_3 - x_1)(y_2 - y_1)}{(x_2 - x_1)(y_3 - y_1)}(y_2 + y_1 - 2y_0) - (y_2 + y_1 - 2y_0) = \\frac{\\frac{x_3 - x_1}{x_2 - x_1}(x_3 - x_2)(x_2 - x_1) + y_3^2 - y_1^2}{(y_3 - y_1)} - y_1 - y_2$\n",
        "\n",
        "\\\n",
        "\n",
        "$(y_2 + y_1 - 2y_0)\\left[ \\frac{(x_3 - x_1)(y_2 - y_1)}{(x_2 - x_1)(y_3 - y_1)} - 1 \\right] = \\frac{\\frac{x_3 - x_1}{x_2 - x_1}(x_3 - x_2)(x_2 - x_1) + y_3^2 - y_1^2}{(y_3 - y_1)} - y_1 - y_2$\n",
        "\n",
        "\\\n",
        "\n",
        "$y_0 = \\frac12 \\left[ y_1 + y_2 - \\frac{\\frac{\\frac{x_3 - x_1}{x_2 - x_1}(x_3 - x_2)(x_2 - x_1) + y_3^2 - y_1^2}{(y_3 - y_1)} - y_1 - y_2}{\\frac{(x_3 - x_1)(y_2 - y_1)}{(x_2 - x_1)(y_3 - y_1)} - 1} \\right]$\n",
        "\n",
        "\\\n",
        "\n",
        "$y_0 = \\frac12 \\left[ y_1 + y_2 - \\frac{\\frac{(x_3 - x_1)(x_3 - x_2)}{y_3 - y_1} - y_2 + y_3}{\\frac{(x_3 - x_1)(y_2 - y_1)}{(x_2 - x_1)(y_3 - y_1)} - 1} \\right]$\n",
        "\n",
        "\\\n",
        "\n",
        "There's probably a faster way to solve that. I'm not going to bother trying to figure it out."
      ]
    },
    {
      "cell_type": "markdown",
      "metadata": {
        "id": "3ptX9z4kRkY6",
        "colab_type": "text"
      },
      "source": [
        "## Solving for $r$"
      ]
    },
    {
      "cell_type": "markdown",
      "metadata": {
        "id": "eSrFfx5DRoOw",
        "colab_type": "text"
      },
      "source": [
        "$(x_1 - x_0)^2 + (x_1 - y_0)^2 = r^2$\n",
        "\n",
        "$r = \\sqrt{(x_1 - x_0)^2 + (y_1 - y_0)^2}$\n",
        "\n",
        "$r = \\sqrt{\\left\\{x_1 - \\frac12 \\left(\\frac{(y_2 - y_1)\\left[\\frac{\\frac{(x_3 - x_1)(x_3 - x_2)}{(y_3 - y_1)} - y_2 + y_3}{\\frac{(x_3 - x_1)(y_2 - y_1)}{(x_2 - x_1)(y_3 - y_1)} - 1}\\right]}{x_2 - x_1} + x_1 + x_2\\right)\\right\\}^2 + \\left\\{y_1 - \\frac12 \\left[ y_1 + y_2 - \\frac{\\frac{(x_3 - x_1)(x_3 - x_2)}{(y_3 - y_1)} - y_2 + y_3}{\\frac{(x_3 - x_1)(y_2 - y_1)}{(x_2 - x_1)(y_3 - y_1)} - 1} \\right]\\right\\}^2}$"
      ]
    }
  ]
}