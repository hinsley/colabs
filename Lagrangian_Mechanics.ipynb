{
  "nbformat": 4,
  "nbformat_minor": 0,
  "metadata": {
    "colab": {
      "name": "Lagrangian Mechanics.ipynb",
      "provenance": [],
      "include_colab_link": true
    },
    "kernelspec": {
      "name": "python3",
      "display_name": "Python 3"
    }
  },
  "cells": [
    {
      "cell_type": "markdown",
      "metadata": {
        "id": "view-in-github",
        "colab_type": "text"
      },
      "source": [
        "<a href=\"https://colab.research.google.com/github/hinsley/colabs/blob/master/Lagrangian_Mechanics.ipynb\" target=\"_parent\"><img src=\"https://colab.research.google.com/assets/colab-badge.svg\" alt=\"Open In Colab\"/></a>"
      ]
    },
    {
      "cell_type": "markdown",
      "metadata": {
        "id": "jTrnkhhIxDe8",
        "colab_type": "text"
      },
      "source": [
        "# Lagrangian Mechanics for High Schoolers\n",
        "\n",
        "The Lagrangian formulation of classical mechanics is really cool and everybody sucks at explaining it. You don't need to know variational calculus to learn it. Here's what you do need to know:\n",
        "\n",
        "- [Solving first-order differential equations by separation of variables](https://www.khanacademy.org/math/ap-calculus-ab/ab-differential-equations-new/ab-7-6/a/applying-procedures-for-separable-differential-equations)\n",
        "- [Partial derivatives](https://www.khanacademy.org/math/multivariable-calculus/multivariable-derivatives/partial-derivative-and-gradient-articles/a/introduction-to-partial-derivatives)\n",
        "- The basics of Newtonian mechanics, or the simple equations of energy and motion from a calculus perspective.\n",
        "\n",
        "---\n",
        "\n",
        "## Defining our system\n",
        "\n",
        "Let's say you've got a particle that's just a point mass. That's just a single point in space that has a certain amount of mass $m$ -- it has no orientation (direction or ability to rotate). Let's suppose this point mass may be moved up or down over time, so it only has one axis of motion. We'll call the particle's position in this axis of motion $x$. As $x$ can change over time, we'll say $x$ is a function of time $t$, or $x(t) = x$. Naturally, the change in position as time changes is the velocity $x'$, where $x'(t) = \\frac{d}{dt} x(t)$. Going a step further, $x''$ would be the acceleration of the particle: $x''(t) = \\frac{d}{dt} x'(t) = \\frac{d^2}{dt^2} x(t)$.\n",
        "\n",
        "## The Lagrangian\n",
        "\n",
        "Now that that's out of the way, we can get to the interesting stuff. If $T(x')$ is the *kinetic energy* of our particle as a function of velocity, and $V(x)$ is the *potential energy* of our particle as a function of position, the *Lagrangian* $L$ is defined as $L = T(x') - V(x)$. So what would the Lagrangian of our particle look like?\n",
        "\n",
        "The accumulation of force over time, our kinetic energy may be defined as follows (remember that force is mass times acceleration:\n",
        "\n",
        "$T(x') = \\int F \\ dt = \\int mx'' \\ dt = m \\int x''(t) \\ dt = \\frac12 m x'^{\\ 2} + C$.\n",
        "\n",
        "And the potential energy in this system is given by the following equation (where $g$ is the acceleration (in meters per second) due to gravity):\n",
        "\n",
        "$V(x) = mgx$.\n",
        "\n",
        "So the Lagrangian expands to:\n",
        "\n",
        "$L = \\frac12 m x'^{\\ 2} - mgx + C.$\n",
        "\n",
        "Note that sometimes you will see the Lagrangian as $L(t, x, x')$, which just means that it is a function of time, position, and velocity.\n",
        "\n",
        "## Euler-Lagrange Equation (Simplified)\n",
        "\n",
        "We're going to do a bit of hand-waving magic here so you don't have to study variational calculus to make use of the Lagrangian. \n",
        "\n",
        "$x' = \\frac{d}{dt} x$. This is by definition. Let's do something potentially nonsensical and divide both sides of this equation by $\\frac{d}{dt}$.\n",
        "\n",
        "$\\frac{dt}{d} x' = x$. Since both sides of this equation are equal, let's divide one by each side.\n",
        "\n",
        "$\\frac{d}{dt} \\frac{1}{x'} = \\frac{1}{x}$. Now let's multiply both sides by the Lagrangian $L$.\n",
        "\n",
        "$\\frac{d}{dt} \\frac{L}{x'} = \\frac{L}{x}$. Here comes the nasty bit. Let's multiply both sides by $\\frac{\\partial}{\\partial}$.\n",
        "\n",
        "$\\frac{d}{dt} \\frac{\\partial L}{\\partial x'} = \\frac{\\partial L}{\\partial x}$. This is basically the Euler-Lagrange Equation. Basically. Don't ever tell a physicist or mathematician anything you just read.\n",
        "\n",
        "## Moving on!\n",
        "\n",
        "So, given that you already know how to take partial derivatives, you should be able to reduce the equation we just arrived at without too much trouble. I'll do it alongside you:\n",
        "\n",
        "$\\frac{\\partial L}{\\partial x'} = mx'$.\n",
        "\n",
        "$\\frac{d}{dt} mx' = \\frac{\\partial L}{\\partial x}$.\n",
        "\n",
        "$\\frac{\\partial L}{\\partial x} = -mg$.\n",
        "\n",
        "$\\frac{d}{dt} mx' = -mg$.\n",
        "\n",
        "$m \\frac{d}{dt}x' = -mg$.\n",
        "\n",
        "$mx'' = -mg$.\n",
        "\n",
        "$x'' = -g$.\n",
        "\n",
        "So the acceleration of our body as time changes is $-g$. Let's find the velocity as a function of time:\n",
        "\n",
        "$x'(t) = \\int x''(t) \\ dt = \\int -g \\ dt = -gt + x'_0$.\n",
        "\n",
        "$x'_0$ here is just the initial velocity. And of course, we can now find the position as a function of time:\n",
        "\n",
        "$x(t) = \\int x'(t) \\ dt = \\int -gt + x'_0 \\ dt = -\\frac12 gt^2 + x'_0t + x_0$.\n",
        "\n",
        "Again, $x_0$ is just an initial position.\n",
        "\n",
        "That's it. You just found the only solution for a position function of time from the system's Lagrangian. There is literally nothing else to it, except that the systems get more complex as you add more constraints and bodies."
      ]
    }
  ]
}