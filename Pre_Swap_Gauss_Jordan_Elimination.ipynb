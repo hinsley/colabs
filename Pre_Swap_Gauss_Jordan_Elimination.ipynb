{
  "nbformat": 4,
  "nbformat_minor": 0,
  "metadata": {
    "colab": {
      "name": "Pre-Swap Gauss-Jordan Elimination",
      "provenance": [],
      "include_colab_link": true
    },
    "kernelspec": {
      "name": "python3",
      "display_name": "Python 3"
    }
  },
  "cells": [
    {
      "cell_type": "markdown",
      "metadata": {
        "id": "view-in-github",
        "colab_type": "text"
      },
      "source": [
        "<a href=\"https://colab.research.google.com/github/hinsley/colabs/blob/master/Pre_Swap_Gauss_Jordan_Elimination.ipynb\" target=\"_parent\"><img src=\"https://colab.research.google.com/assets/colab-badge.svg\" alt=\"Open In Colab\"/></a>"
      ]
    },
    {
      "cell_type": "markdown",
      "metadata": {
        "id": "_mPZACLsKXbp",
        "colab_type": "text"
      },
      "source": [
        "This notebook is pretty old and may not be perfect."
      ]
    },
    {
      "cell_type": "code",
      "metadata": {
        "id": "H_ghLm8VHhdS",
        "colab_type": "code",
        "outputId": "df6e8f00-8f4e-4e49-e65a-c2ff5daa66ce",
        "colab": {
          "base_uri": "https://localhost:8080/",
          "height": 89
        }
      },
      "source": [
        "import numpy as np\n",
        "\n",
        "example_matrix = np.array([[1.,0.,0.,0.,4.],[0.,1.,1.,0.,-1.],[0.,0.,1.,1.,-8.],[0.,1.,0.,0.,1.]])\n",
        "\n",
        "print(example_matrix)"
      ],
      "execution_count": 0,
      "outputs": [
        {
          "output_type": "stream",
          "text": [
            "[[ 1.  0.  0.  0.  4.]\n",
            " [ 0.  1.  1.  0. -1.]\n",
            " [ 0.  0.  1.  1. -8.]\n",
            " [ 0.  1.  0.  0.  1.]]\n"
          ],
          "name": "stdout"
        }
      ]
    },
    {
      "cell_type": "code",
      "metadata": {
        "id": "t9Qu96WmIQnD",
        "colab_type": "code",
        "colab": {}
      },
      "source": [
        "from itertools import permutations\n",
        "\n",
        "def gauss_jordan(matrix: np.array) -> np.array:\n",
        "  t_matrix = np.copy(matrix)\n",
        "                                                            \n",
        "  def scale_row(a: int, c: float):\n",
        "    t_matrix[a] *= c\n",
        "                                                                            \n",
        "  def add_scaled_row(a: int, b: int, c: float):\n",
        "    # c*R_b + R_a -> R_a\n",
        "    t_matrix[a] += c * t_matrix[b]\n",
        "                                               \n",
        "  possible_orders = permutations(range(len(t_matrix)))\n",
        "                                                                                                            \n",
        "  reducible = False\n",
        "  for possible_order in possible_orders:\n",
        "    if all([t_matrix[row][column] != 0 for column, row in enumerate(possible_order)]):\n",
        "      t_matrix = np.array([t_matrix[row] for row in possible_order])\n",
        "      reducible = True\n",
        "      break                  \n",
        "  if not reducible:\n",
        "    raise ValueError(\"No solution found.\")\n",
        "                                                                                                                                                                                \n",
        "  scale_row(0, 1 / t_matrix[0][0])\n",
        "                                                                                                                                                                                    \n",
        "  for row in range(1, len(t_matrix)):\n",
        "    for column in range(row):\n",
        "      add_scaled_row(row, column, -t_matrix[row][column])\n",
        "    scale_row(row, 1 / t_matrix[row][row])\n",
        "                                                                                                                                                                                                                            \n",
        "  for row in range(len(t_matrix)):\n",
        "    for column in range(row + 1, len(t_matrix[row]) - 1):\n",
        "      add_scaled_row(row, column, -t_matrix[row][column])\n",
        "                                                                                                                                                                                                                                                        \n",
        "  return t_matrix.transpose()[-1]"
      ],
      "execution_count": 0,
      "outputs": []
    },
    {
      "cell_type": "code",
      "metadata": {
        "id": "BD--4EwjNvg4",
        "colab_type": "code",
        "outputId": "d233f6b5-b0e5-48bc-f43f-b49c1b5ffa53",
        "colab": {
          "base_uri": "https://localhost:8080/",
          "height": 35
        }
      },
      "source": [
        "print(gauss_jordan(example_matrix))"
      ],
      "execution_count": 0,
      "outputs": [
        {
          "output_type": "stream",
          "text": [
            "[ 4.  1. -2. -6.]\n"
          ],
          "name": "stdout"
        }
      ]
    }
  ]
}