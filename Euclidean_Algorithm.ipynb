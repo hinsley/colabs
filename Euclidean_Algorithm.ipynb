{
  "nbformat": 4,
  "nbformat_minor": 0,
  "metadata": {
    "colab": {
      "name": "Euclidean Algorithm.ipynb",
      "provenance": [],
      "include_colab_link": true
    },
    "kernelspec": {
      "name": "python3",
      "display_name": "Python 3"
    }
  },
  "cells": [
    {
      "cell_type": "markdown",
      "metadata": {
        "id": "view-in-github",
        "colab_type": "text"
      },
      "source": [
        "<a href=\"https://colab.research.google.com/github/hinsley/colabs/blob/master/Euclidean_Algorithm.ipynb\" target=\"_parent\"><img src=\"https://colab.research.google.com/assets/colab-badge.svg\" alt=\"Open In Colab\"/></a>"
      ]
    },
    {
      "cell_type": "code",
      "metadata": {
        "id": "0v6tt3A7z0HC",
        "colab_type": "code",
        "colab": {}
      },
      "source": [
        "def GCD(a: int, b: int) -> int:\n",
        "  def euclidean_step(l: int, h: int) -> int:\n",
        "    rem = h % l\n",
        "    quot = (h - rem) // l\n",
        "    \n",
        "    print(f\"{h} = {l} * {quot} + {rem}\")\n",
        "\n",
        "    if rem == 0:\n",
        "      return abs(l)\n",
        "    else:\n",
        "      return euclidean_step(rem, l)\n",
        "  \n",
        "  return euclidean_step(*sorted([a,b]))"
      ],
      "execution_count": 0,
      "outputs": []
    },
    {
      "cell_type": "code",
      "metadata": {
        "id": "MBQn0Ink0Tf_",
        "colab_type": "code",
        "outputId": "85c941f5-c3fd-46ec-c081-13b4996ff708",
        "colab": {
          "base_uri": "https://localhost:8080/",
          "height": 91
        }
      },
      "source": [
        "GCD(5, 3)"
      ],
      "execution_count": 0,
      "outputs": [
        {
          "output_type": "stream",
          "text": [
            "5 = 3 * 1 + 2\n",
            "3 = 2 * 1 + 1\n",
            "2 = 1 * 2 + 0\n"
          ],
          "name": "stdout"
        },
        {
          "output_type": "execute_result",
          "data": {
            "text/plain": [
              "1"
            ]
          },
          "metadata": {
            "tags": []
          },
          "execution_count": 31
        }
      ]
    },
    {
      "cell_type": "code",
      "metadata": {
        "id": "zL4-37NK0V4l",
        "colab_type": "code",
        "outputId": "ad90f40c-9731-47ad-943a-fbd8c090d39a",
        "colab": {
          "base_uri": "https://localhost:8080/",
          "height": 146
        }
      },
      "source": [
        "GCD(21, 13)"
      ],
      "execution_count": 0,
      "outputs": [
        {
          "output_type": "stream",
          "text": [
            "21 = 13 * 1 + 8\n",
            "13 = 8 * 1 + 5\n",
            "8 = 5 * 1 + 3\n",
            "5 = 3 * 1 + 2\n",
            "3 = 2 * 1 + 1\n",
            "2 = 1 * 2 + 0\n"
          ],
          "name": "stdout"
        },
        {
          "output_type": "execute_result",
          "data": {
            "text/plain": [
              "1"
            ]
          },
          "metadata": {
            "tags": []
          },
          "execution_count": 32
        }
      ]
    },
    {
      "cell_type": "code",
      "metadata": {
        "id": "qrCyKeUm3gY_",
        "colab_type": "code",
        "outputId": "3e4da703-0527-49fb-bb9f-ef879a94ccd0",
        "colab": {
          "base_uri": "https://localhost:8080/",
          "height": 72
        }
      },
      "source": [
        "GCD(66, 88)"
      ],
      "execution_count": 0,
      "outputs": [
        {
          "output_type": "stream",
          "text": [
            "88 = 66 * 1 + 22\n",
            "66 = 22 * 3 + 0\n"
          ],
          "name": "stdout"
        },
        {
          "output_type": "execute_result",
          "data": {
            "text/plain": [
              "22"
            ]
          },
          "metadata": {
            "tags": []
          },
          "execution_count": 38
        }
      ]
    },
    {
      "cell_type": "code",
      "metadata": {
        "id": "Lp88OUes3iXa",
        "colab_type": "code",
        "colab": {}
      },
      "source": [
        ""
      ],
      "execution_count": 0,
      "outputs": []
    }
  ]
}