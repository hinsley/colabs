{
  "nbformat": 4,
  "nbformat_minor": 0,
  "metadata": {
    "colab": {
      "name": "TDt3.ipynb",
      "provenance": [],
      "collapsed_sections": [],
      "authorship_tag": "ABX9TyNG+3mib/O7/NUBUY3/wu3z",
      "include_colab_link": true
    },
    "kernelspec": {
      "name": "python3",
      "display_name": "Python 3"
    }
  },
  "cells": [
    {
      "cell_type": "markdown",
      "metadata": {
        "id": "view-in-github",
        "colab_type": "text"
      },
      "source": [
        "<a href=\"https://colab.research.google.com/github/hinsley/colabs/blob/master/TDt3.ipynb\" target=\"_parent\"><img src=\"https://colab.research.google.com/assets/colab-badge.svg\" alt=\"Open In Colab\"/></a>"
      ]
    },
    {
      "cell_type": "markdown",
      "metadata": {
        "id": "9KpBr7z8Mj1L",
        "colab_type": "text"
      },
      "source": [
        "# TDt3\n",
        "\n",
        "Temporal difference learning model for tic-tac-toe\n",
        "\n",
        "Inspired by Sutton & Barto\n",
        "\n",
        "Plays as X"
      ]
    },
    {
      "cell_type": "markdown",
      "metadata": {
        "id": "QNBxbqZsZZpA",
        "colab_type": "text"
      },
      "source": [
        "Board position encodings:\n",
        "\n",
        "$\\begin{bmatrix}0 & 1 & 2 & 3 & 4 & 5 & 6 & 7 & 8\\end{bmatrix} \\to \\begin{pmatrix} 0 & 1 & 2 \\\\ 3 & 4 & 5 \\\\ 6 & 7 & 8 \\end{pmatrix}$"
      ]
    },
    {
      "cell_type": "code",
      "metadata": {
        "id": "Hc_AKD_-MfQD",
        "colab_type": "code",
        "colab": {}
      },
      "source": [
        "import numpy as np\n",
        "from typing import Dict, List, Optional, Tuple"
      ],
      "execution_count": 0,
      "outputs": []
    },
    {
      "cell_type": "code",
      "metadata": {
        "id": "hHiRIb0oRmUu",
        "colab_type": "code",
        "colab": {}
      },
      "source": [
        "ActionValue = Optional[float] # [0.0, 1.0]. Higher values are better. We\n",
        "                              # consider draws to be losses.\n",
        "\n",
        "PositionState = int # Enumeration. See below.\n",
        "VALUE_BLANK = 0\n",
        "VALUE_X = 1\n",
        "VALUE_O = 2\n",
        "\n",
        "BoardState = List[PositionState] # (3 x 3)\n",
        "\n",
        "EncodedBoardState = int # Trinary encoding."
      ],
      "execution_count": 0,
      "outputs": []
    },
    {
      "cell_type": "code",
      "metadata": {
        "id": "97bcfMuthH-k",
        "colab_type": "code",
        "colab": {},
        "cellView": "form"
      },
      "source": [
        "#@title f_eq(a: float, b: float, epsilon: float=1e-4) -> bool\n",
        "def f_eq(a: float, b: float, epsilon: float=1e-4) -> bool:\n",
        "  \"\"\" Test for float equivalency. Parameterizes rounding error tolerance. \"\"\"\n",
        "\n",
        "  return abs(a - b) < epsilon"
      ],
      "execution_count": 0,
      "outputs": []
    },
    {
      "cell_type": "code",
      "metadata": {
        "id": "nd9qpInXSPpx",
        "colab_type": "code",
        "cellView": "both",
        "colab": {}
      },
      "source": [
        "#@title eval_state(state: BoardState, x_player: bool) -> ActionValue\n",
        "def eval_state(state: BoardState, x_player: bool) -> ActionValue:\n",
        "  \"\"\"\n",
        "  Used to generate a fresh action value. Only evaluates win/lose/draw\n",
        "  conditions, outputting a 0.5 action value if the state does not signify the\n",
        "  end of a game.\n",
        "\n",
        "  Because it is not possible in Tic-Tac-Toe to achieve a board state such that\n",
        "  both players have three moves in a row [sic], we can stop evaluating once the\n",
        "  first row [sic] is detected.\n",
        "  \"\"\"\n",
        "  \n",
        "  for group in [\n",
        "    [0,1,2], # Rows\n",
        "    [3,4,5],\n",
        "    [6,7,8],\n",
        "    [0,3,6], # Columns\n",
        "    [1,4,7],\n",
        "    [2,5,8],\n",
        "    [0,4,8], # Diagonals\n",
        "    [2,4,6],\n",
        "  ]:\n",
        "    if state[group[0]] == state[group[1]] == state[group[2]]:\n",
        "      try:\n",
        "        return {\n",
        "          VALUE_X: 1.0 if x_player else 0.0,\n",
        "          VALUE_O: 0.0 if x_player else 1.0,\n",
        "        }[state[group[0]]]\n",
        "      except KeyError: # Row of blanks\n",
        "        continue\n",
        "  \n",
        "  if any([position == VALUE_BLANK for position in state]):\n",
        "    return 0.5 # Board contains an empty space and no win condition achieved\n",
        "  else:\n",
        "    return 0.75 # Draw"
      ],
      "execution_count": 0,
      "outputs": []
    },
    {
      "cell_type": "code",
      "metadata": {
        "id": "iddJu6sDsKsz",
        "colab_type": "code",
        "cellView": "form",
        "colab": {}
      },
      "source": [
        "#@title encode_board(state: BoardState) -> EncodedBoardState\n",
        "def encode_board(state: BoardState) -> EncodedBoardState:\n",
        "  \"\"\"\n",
        "  Encode a trinary board state into a single hashable value. Smallest position\n",
        "  is top left.\n",
        "  \"\"\"\n",
        "\n",
        "  return sum([value * 3 ** i for i, value in enumerate(state)])"
      ],
      "execution_count": 0,
      "outputs": []
    },
    {
      "cell_type": "code",
      "metadata": {
        "id": "KHFnimIup2Gb",
        "colab_type": "code",
        "cellView": "form",
        "colab": {}
      },
      "source": [
        "#@title decode_board(encoded_state: EncodedBoardState) -> BoardState\n",
        "def decode_board(encoded_state: EncodedBoardState) -> BoardState:\n",
        "  \"\"\"\n",
        "  Decode a single hashable representation of board state into an indexable\n",
        "  serialization of positions.\n",
        "  \"\"\"\n",
        "\n",
        "  return [encoded_state // (3 ** i) % 3 for i in range(9)]"
      ],
      "execution_count": 0,
      "outputs": []
    },
    {
      "cell_type": "code",
      "metadata": {
        "id": "biOXEeiq2DdH",
        "colab_type": "code",
        "cellView": "form",
        "colab": {}
      },
      "source": [
        "#@title pprint(state: Optional[BoardState])\n",
        "def pprint(state: BoardState):\n",
        "  \"\"\" Pretty prints a board state. \"\"\"\n",
        "  \n",
        "  if state is None:\n",
        "    return\n",
        "\n",
        "  def graphical_position_state(position_state: PositionState) -> str:\n",
        "    return {\n",
        "        VALUE_BLANK: \"-\",\n",
        "        VALUE_X: \"X\",\n",
        "        VALUE_O: \"O\",\n",
        "    }[position_state]\n",
        "  \n",
        "  print()\n",
        "  print(*[graphical_position_state(pstate) for pstate in state[:3]])\n",
        "  print(*[graphical_position_state(pstate) for pstate in state[3:6]])\n",
        "  print(*[graphical_position_state(pstate) for pstate in state[6:]])"
      ],
      "execution_count": 0,
      "outputs": []
    },
    {
      "cell_type": "code",
      "metadata": {
        "id": "MRyoAYwbvPXD",
        "colab_type": "code",
        "colab": {},
        "cellView": "form"
      },
      "source": [
        "#@title class ActionEvaluator()\n",
        "\n",
        "from random import randint\n",
        "\n",
        "class ActionEvaluator():\n",
        "\n",
        "  _action_values: Dict[EncodedBoardState, ActionValue]\n",
        "  _prev_state: EncodedBoardState\n",
        "  _x_player: bool\n",
        "\n",
        "\n",
        "  def __init__(self, x_player: bool=True):\n",
        "\n",
        "    self._action_values = {0: 0.5}\n",
        "    self.reset_board_state()\n",
        "    self._x_player = True\n",
        "  \n",
        "\n",
        "  def reset_board_state(self):\n",
        "\n",
        "    self._prev_state = encode_board([VALUE_BLANK] * 9)\n",
        "\n",
        "\n",
        "  def evaluate(self, state: BoardState) -> ActionValue:\n",
        "\n",
        "    encoded_state = encode_board(state)\n",
        "\n",
        "    if not encoded_state in self._action_values: # Unexplored action.\n",
        "      self._action_values[encoded_state] = eval_state(state, self._x_player)\n",
        "    \n",
        "    return self._action_values[encoded_state]\n",
        "\n",
        "\n",
        "  def back_up_value(self,\n",
        "                    new_state: BoardState,\n",
        "                    learning_rate: float=0.9):\n",
        "    \n",
        "    self._action_values[self._prev_state] += learning_rate * (self.evaluate(new_state) - self.evaluate(decode_board(self._prev_state)))\n",
        "    self._prev_state = encode_board(new_state)\n",
        "\n",
        "\n",
        "  def best_move(self, state: BoardState) -> BoardState:\n",
        "\n",
        "    def possible_move_generator():\n",
        "\n",
        "      for i, position_value in enumerate(state):\n",
        "        if position_value == VALUE_BLANK:\n",
        "          state_after_move = state.copy()\n",
        "          state_after_move[i] = VALUE_X\n",
        "          yield state_after_move\n",
        "    possible_states = possible_move_generator()\n",
        "\n",
        "    max_action_value, argmax = 0.0, []\n",
        "    for new_state in possible_states:\n",
        "      action_value = self.evaluate(new_state)\n",
        "      if action_value >= max_action_value: # Found a better/equal move!\n",
        "        if action_value != max_action_value:\n",
        "          argmax = []\n",
        "        max_action_value = action_value\n",
        "        argmax.append(new_state)\n",
        "      if f_eq(max_action_value, 1.0): # No point in looking for a better move.\n",
        "        break\n",
        "\n",
        "    # We never have to worry about accessing an empty list here, as that means\n",
        "    # we've already reached a draw.\n",
        "\n",
        "    return argmax[randint(0, len(argmax)-1)]"
      ],
      "execution_count": 0,
      "outputs": []
    },
    {
      "cell_type": "code",
      "metadata": {
        "id": "JRdbBB2P8jW5",
        "colab_type": "code",
        "cellView": "form",
        "colab": {}
      },
      "source": [
        "#@title move_o(action_evaluator: ActionEvaluator, state: BoardState, row: int, col: int) -> Optional[BoardState]\n",
        "def move_o(action_evaluator: ActionEvaluator, state: BoardState, row: int, col: int) -> Optional[BoardState]:\n",
        "  \"\"\" Makes a move for O in place. Row and col are zero-indexed. \"\"\"\n",
        "  \n",
        "  if state[row * 3 + col] != VALUE_BLANK:\n",
        "    print(\"That's not valid -- someone has already moved there!\")\n",
        "    return\n",
        "\n",
        "  prev_state = state.copy()\n",
        "  state[row * 3 + col] = VALUE_O\n",
        "\n",
        "  if eval_state(state) == 0.0:\n",
        "    print(\"O wins!\")\n",
        "    action_evaluator.back_up_value(state)\n",
        "\n",
        "  return state"
      ],
      "execution_count": 0,
      "outputs": []
    },
    {
      "cell_type": "code",
      "metadata": {
        "id": "lmPKzx5u_5mv",
        "colab_type": "code",
        "cellView": "form",
        "colab": {}
      },
      "source": [
        "#@title move_x(action_evaluator: ActionEvaluator, state: BoardState) -> BoardState\n",
        "def move_x(action_evaluator: ActionEvaluator, state: BoardState) -> BoardState:\n",
        "  \"\"\" Makes the best known move for X in place. \"\"\"\n",
        "\n",
        "  prev_state = state.copy()\n",
        "  state[:] = action_evaluator.best_move(state)\n",
        "  action_evaluator.back_up_value(state)\n",
        "\n",
        "  state_value = eval_state(state)\n",
        "  if f_eq(1.0, state_value):\n",
        "    print(\"X wins!\")\n",
        "  elif f_eq(0.75, state_value):\n",
        "    print(\"Draw!\")\n",
        "\n",
        "  return state"
      ],
      "execution_count": 0,
      "outputs": []
    },
    {
      "cell_type": "code",
      "metadata": {
        "id": "cfPOhVp5W4oy",
        "colab_type": "code",
        "colab": {},
        "cellView": "form"
      },
      "source": [
        "#@title Delete knowledge of the game\n",
        "try:\n",
        "  del initialized\n",
        "  del action_evaluator\n",
        "  print(\"Knowledge deleted successfully.\")\n",
        "except:\n",
        "  print(\"Cannot delete knowledge -- it doesn't exist!\")"
      ],
      "execution_count": 0,
      "outputs": []
    },
    {
      "cell_type": "code",
      "metadata": {
        "id": "VpJhKS7fUMpR",
        "colab_type": "code",
        "colab": {},
        "cellView": "form"
      },
      "source": [
        "#@title Load knowledge of the game\n",
        "\n",
        "knowledge = \"\" #@param {type: \"string\"}\n",
        "\n",
        "try:\n",
        "  initialized = initialized\n",
        "except:\n",
        "  action_evaluator = ActionEvaluator()\n",
        "\n",
        "initialized = 0\n",
        "\n",
        "try:\n",
        "  action_evaluator._action_values = eval(knowledge)\n",
        "  print(\"Knowledge loaded successfully.\")\n",
        "except:\n",
        "  print(\"Cannot load knowledge -- invalid.\")"
      ],
      "execution_count": 0,
      "outputs": []
    },
    {
      "cell_type": "code",
      "metadata": {
        "id": "bEH1wGujzLZw",
        "colab_type": "code",
        "cellView": "form",
        "outputId": "d60fd6fd-19c1-4445-d596-8677f73fecfe",
        "colab": {
          "base_uri": "https://localhost:8080/",
          "height": 102
        }
      },
      "source": [
        "#@title Turn 1: New game\n",
        "\n",
        "try:\n",
        "  initialized += 1\n",
        "  action_evaluator.reset_board_state()\n",
        "except:\n",
        "  print(\"Initializing ActionEvaluator\")\n",
        "  initialized = 1\n",
        "  action_evaluator = ActionEvaluator()\n",
        "\n",
        "board_state = [VALUE_BLANK] * 9\n",
        "\n",
        "print(f\"Game {initialized} - Turn 1\")\n",
        "pprint(move_x(action_evaluator, board_state))"
      ],
      "execution_count": 1083,
      "outputs": [
        {
          "output_type": "stream",
          "text": [
            "Game 68 - Turn 1\n",
            "\n",
            "- X -\n",
            "- - -\n",
            "- - -\n"
          ],
          "name": "stdout"
        }
      ]
    },
    {
      "cell_type": "code",
      "metadata": {
        "id": "qRkGAhWW8SI2",
        "colab_type": "code",
        "cellView": "form",
        "outputId": "5bc31454-98be-403e-f2aa-0f2727994874",
        "colab": {
          "base_uri": "https://localhost:8080/",
          "height": 85
        }
      },
      "source": [
        "#@title Turns 2-3\n",
        "\n",
        "row =  \"Middle\"#@param [\"Top\", \"Middle\", \"Bottom\"]\n",
        "column =  \"Middle\"#@param [\"Left\", \"Middle\", \"Right\"]\n",
        "\n",
        "row = {\n",
        "    \"Top\": 0,\n",
        "    \"Middle\": 1,\n",
        "    \"Bottom\": 2,\n",
        "}[row]\n",
        "\n",
        "column = {\n",
        "    \"Left\": 0,\n",
        "    \"Middle\": 1,\n",
        "    \"Right\": 2,\n",
        "}[column]\n",
        "\n",
        "if not move_o(action_evaluator, board_state, row, column) is None:\n",
        "  if f_eq(0.0, eval_state(board_state)):\n",
        "    pprint(board_state)\n",
        "  else:\n",
        "    pprint(move_x(action_evaluator, board_state))"
      ],
      "execution_count": 1084,
      "outputs": [
        {
          "output_type": "stream",
          "text": [
            "\n",
            "- X -\n",
            "- O -\n",
            "- X -\n"
          ],
          "name": "stdout"
        }
      ]
    },
    {
      "cell_type": "code",
      "metadata": {
        "id": "7U06lkX-BkmC",
        "colab_type": "code",
        "cellView": "form",
        "outputId": "cc399d48-3b87-4e21-f3be-da3c8113af63",
        "colab": {
          "base_uri": "https://localhost:8080/",
          "height": 85
        }
      },
      "source": [
        "#@title Turns 4-5\n",
        "\n",
        "row =  \"Bottom\"#@param [\"Top\", \"Middle\", \"Bottom\"]\n",
        "column =  \"Right\"#@param [\"Left\", \"Middle\", \"Right\"]\n",
        "\n",
        "row = {\n",
        "    \"Top\": 0,\n",
        "    \"Middle\": 1,\n",
        "    \"Bottom\": 2,\n",
        "}[row]\n",
        "\n",
        "column = {\n",
        "    \"Left\": 0,\n",
        "    \"Middle\": 1,\n",
        "    \"Right\": 2,\n",
        "}[column]\n",
        "\n",
        "if not move_o(action_evaluator, board_state, row, column) is None:\n",
        "  if f_eq(0.0, eval_state(board_state)):\n",
        "    pprint(board_state)\n",
        "  else:\n",
        "    pprint(move_x(action_evaluator, board_state))"
      ],
      "execution_count": 1085,
      "outputs": [
        {
          "output_type": "stream",
          "text": [
            "\n",
            "- X -\n",
            "- O -\n",
            "X X O\n"
          ],
          "name": "stdout"
        }
      ]
    },
    {
      "cell_type": "code",
      "metadata": {
        "id": "RnmIr_wvBr4Y",
        "colab_type": "code",
        "cellView": "form",
        "outputId": "ee350596-4d85-4158-df74-82f2f89491ea",
        "colab": {
          "base_uri": "https://localhost:8080/",
          "height": 102
        }
      },
      "source": [
        "#@title Turns 6-7\n",
        "\n",
        "row =  \"Top\"#@param [\"Top\", \"Middle\", \"Bottom\"]\n",
        "column =  \"Left\"#@param [\"Left\", \"Middle\", \"Right\"]\n",
        "\n",
        "row = {\n",
        "    \"Top\": 0,\n",
        "    \"Middle\": 1,\n",
        "    \"Bottom\": 2,\n",
        "}[row]\n",
        "\n",
        "column = {\n",
        "    \"Left\": 0,\n",
        "    \"Middle\": 1,\n",
        "    \"Right\": 2,\n",
        "}[column]\n",
        "\n",
        "if not move_o(action_evaluator, board_state, row, column) is None:\n",
        "  if f_eq(0.0, eval_state(board_state)):\n",
        "    pprint(board_state)\n",
        "  else:\n",
        "    pprint(move_x(action_evaluator, board_state))"
      ],
      "execution_count": 1086,
      "outputs": [
        {
          "output_type": "stream",
          "text": [
            "O wins!\n",
            "\n",
            "O X -\n",
            "- O -\n",
            "X X O\n"
          ],
          "name": "stdout"
        }
      ]
    },
    {
      "cell_type": "code",
      "metadata": {
        "id": "XogaCZ2xGFwd",
        "colab_type": "code",
        "cellView": "form",
        "outputId": "a4faf54f-77c1-49a4-b8af-9977043ddfbd",
        "colab": {
          "base_uri": "https://localhost:8080/",
          "height": 102
        }
      },
      "source": [
        "#@title Turns 8-9: Showdown!\n",
        "\n",
        "row =  \"Top\"#@param [\"Top\", \"Middle\", \"Bottom\"]\n",
        "column =  \"Left\"#@param [\"Left\", \"Middle\", \"Right\"]\n",
        "\n",
        "row = {\n",
        "    \"Top\": 0,\n",
        "    \"Middle\": 1,\n",
        "    \"Bottom\": 2,\n",
        "}[row]\n",
        "\n",
        "column = {\n",
        "    \"Left\": 0,\n",
        "    \"Middle\": 1,\n",
        "    \"Right\": 2,\n",
        "}[column]\n",
        "\n",
        "if not move_o(action_evaluator, board_state, row, column) is None:\n",
        "  if f_eq(0.0, eval_state(board_state)):\n",
        "    pprint(board_state)\n",
        "  else:\n",
        "    pprint(move_x(action_evaluator, board_state))"
      ],
      "execution_count": 1082,
      "outputs": [
        {
          "output_type": "stream",
          "text": [
            "Draw!\n",
            "\n",
            "O X O\n",
            "X O X\n",
            "X O X\n"
          ],
          "name": "stdout"
        }
      ]
    },
    {
      "cell_type": "code",
      "metadata": {
        "id": "S5PFZ_-JL2Kn",
        "colab_type": "code",
        "cellView": "form",
        "outputId": "6905067b-6be1-46fd-c059-d471283868fb",
        "colab": {
          "base_uri": "https://localhost:8080/",
          "height": 54
        }
      },
      "source": [
        "#@title Run and copy the result of this cell to save/share your model's learned knowledge.\n",
        "print(action_evaluator._action_values)"
      ],
      "execution_count": 1087,
      "outputs": [
        {
          "output_type": "stream",
          "text": [
            "{0: 0.5, 1: 0.5, 3: 0.5, 9: 0.5, 27: 0.5, 81: 0.5, 243: 0.5, 729: 0.5, 2187: 0.5, 6561: 0.5, 3646: 0.5, 3648: 0.5, 3654: 0.5, 3672: 0.5, 3726: 0.5, 3888: 0.5, 10206: 0.5, 3709: 0.5, 3711: 0.5, 3789: 0.5, 3951: 0.04999999999999999, 10269: 0.5, 3953: 0.0, 4456: 0.5, 4458: 0.5, 4464: 0.5, 4482: 0.5, 4698: 0.5, 5184: 0.5, 11016: 0.5, 5203: 0.5, 5205: 0.5, 5229: 0.95, 5445: 0.5, 11763: 0.5, 5234: 0.5, 5474: 1.0, 6724: 0.5, 6726: 0.5, 6732: 0.5, 6750: 0.5, 6966: 0.5, 7452: 0.5, 8910: 0.5, 6985: 0.5, 6987: 0.04999999999999999, 7011: 0.04999999999999999, 7713: 0.5, 9171: 0.04999999999999999, 8445: 0.0, 166: 0.5, 174: 0.5, 192: 0.5, 408: 0.5, 894: 0.5, 2352: 0.5, 203: 0.04999999999999999, 419: 0.5, 905: 0.04999999999999999, 2363: 0.5, 6737: 0.5, 13325: 0.0, 1540: 0.5, 1542: 0.5, 1548: 0.5, 1566: 0.5, 1782: 0.5, 8100: 0.5, 2053: 0.5, 2055: 0.5, 2061: 0.5, 4239: 0.5, 8613: 0.5, 4246: 0.725, 4254: 0.5, 10806: 0.5, 17377: 0.75, 514: 0.5, 516: 0.5, 522: 0.5, 594: 0.5, 1242: 0.5, 2700: 0.5, 7074: 0.5, 2863: 0.5, 2865: 0.5, 2871: 0.5, 3591: 0.5, 9423: 0.5, 2876: 0.5, 3602: 0.5, 9434: 0.5, 7213: 0.04999999999999999, 7221: 0.04999999999999999, 7239: 0.5, 7941: 0.5, 9399: 0.5, 7267: 0.0, 7275: 0.0, 406: 0.5, 414: 0.5, 432: 0.5, 1134: 0.5, 2592: 0.5, 10629: 0.0, 892: 0.5, 900: 0.5, 918: 0.5, 3078: 0.5, 949: 0.04999999999999999, 955: 0.04999999999999999, 1189: 0.5, 3133: 0.04999999999999999, 7507: 0.04999999999999999, 3619: 0.0, 11125: 0.5, 11127: 0.5, 11133: 0.04999999999999999, 11367: 0.04999999999999999, 11853: 0.04999999999999999, 11139: 0.0, 172: 0.5, 198: 0.5, 2358: 0.5, 7219: 0.04999999999999999, 7245: 0.5, 7947: 0.04999999999999999, 9405: 0.04999999999999999, 8001: 0.0, 190: 0.5, 2350: 0.5, 7993: 0.0, 211: 0.5, 427: 0.5, 913: 0.5, 2371: 0.5, 6745: 0.04999999999999999, 8203: 0.0, 2376: 0.5, 2395: 0.5, 2397: 0.5, 2637: 0.5, 3123: 0.5, 8955: 0.04999999999999999, 10413: 0.0, 2387: 0.04999999999999999, 2603: 0.5, 3089: 0.04999999999999999, 8921: 0.95, 16211: 0.0, 437: 0.5, 923: 0.5, 2381: 0.04999999999999999, 6755: 0.5, 15503: 0.0, 10382: 0.5, 10406: 0.5, 10622: 1.0, 1441: 0.0, 2839: 0.5, 2847: 0.5, 3567: 0.5, 2884: 0.5, 3612: 0.5, 9444: 0.04999999999999999, 10902: 0.0, 11859: 0.0, 16201: 0.5, 16203: 0.04999999999999999, 16209: 0.04999999999999999, 16227: 0.5, 16443: 0.5, 9459: 0.0, 4807: 0.04999999999999999, 4809: 0.5, 4815: 0.5, 5535: 0.04999999999999999, 5541: 0.0, 4783: 0.5, 4789: 0.5, 5509: 0.5, 11341: 0.5, 4813: 0.0, 10369: 0.04999999999999999, 10371: 0.04999999999999999, 10377: 0.5, 10395: 0.5, 10611: 0.04999999999999999, 14027: 0.0, 1553: 0.5, 1577: 0.5, 1793: 0.5, 3737: 0.5, 8111: 0.04999999999999999, 8165: 0.0, 13537: 0.5, 13539: 0.5, 13563: 0.5, 14265: 0.5, 15723: 0.04999999999999999, 15725: 0.0, 11373: 0.0, 4573: 0.5, 4575: 0.5, 5301: 0.5, 4820: 0.04999999999999999, 5306: 0.04999999999999999, 11138: 0.5, 18428: 0.0, 4051: 0.04999999999999999, 4053: 0.04999999999999999, 4059: 0.5, 4077: 0.5, 4071: 0.0, 4069: 0.0, 3811: 0.5, 3819: 0.5, 3837: 0.04999999999999999, 3848: 0.5, 4064: 0.04999999999999999, 4118: 0.0, 8105: 0.5, 8129: 0.5, 8345: 0.5, 10289: 0.04999999999999999, 10343: 0.0, 443: 0.5, 929: 0.04999999999999999, 6761: 0.5, 15509: 0.0, 1210: 0.725, 3154: 0.5, 7528: 0.5, 16519: 0.75, 6769: 0.5, 6771: 0.5, 7497: 0.5, 8469: 0.0, 17942: 0.0, 1163: 0.5, 3107: 0.5, 7481: 0.5, 14051: 0.0, 205: 0.04999999999999999, 421: 0.5, 907: 0.5, 2365: 0.5, 6739: 0.04999999999999999, 11113: 0.0, 933: 0.04999999999999999, 1149: 0.04999999999999999, 3093: 0.5, 7467: 0.5, 5307: 0.0, 1139: 0.5, 2597: 0.5, 6971: 0.5, 7016: 0.5, 7718: 0.725, 9176: 0.04999999999999999, 10634: 0.0, 6757: 0.5, 6973: 0.04999999999999999, 7459: 0.04999999999999999, 8917: 0.5, 11347: 0.0, 11833: 0.0, 5917: 0.5, 5925: 0.04999999999999999, 5943: 0.5, 6159: 0.5, 12477: 0.5, 19047: 0.0, 2407: 0.5, 2415: 0.5, 2649: 0.5, 3135: 0.04999999999999999, 8967: 0.5, 2668: 0.5, 3396: 0.5, 9228: 0.04999999999999999, 10686: 0.0, 1651: 0.5, 1659: 0.5, 1893: 0.04999999999999999, 8211: 0.5, 1911: 0.0, 3855: 0.0, 3733: 0.5, 3741: 0.5, 3759: 0.5, 3975: 0.5, 10293: 0.5, 10304: 0.5, 10322: 0.5, 10538: 0.04999999999999999, 10592: 0.0, 1435: 0.0, 6781: 0.5, 6787: 0.5, 7021: 0.5, 8965: 0.5, 7042: 0.04999999999999999, 7768: 0.5, 9226: 0.5, 8500: 0.0, 1837: 0.5, 1839: 0.5, 1845: 0.5, 4023: 0.04999999999999999, 8397: 0.5, 4025: 0.0, 10387: 0.0, 7273: 0.0, 447: 0.5, 2391: 0.5, 6765: 0.5, 4579: 0.0, 10389: 0.0, 8618: 0.5, 8624: 0.725, 10802: 0.5, 13001: 0.75, 7252: 0.5, 7980: 0.04999999999999999, 9438: 0.5, 12354: 0.0, 12119: 0.75, 4030: 0.5, 4038: 0.04999999999999999, 10590: 0.5, 4040: 0.0, 1141: 0.5, 1167: 0.5, 3327: 0.5, 7701: 0.5, 5523: 0.0, 3621: 0.0, 439: 0.04999999999999999, 2599: 0.5, 12088: 0.5, 12090: 0.725, 12114: 0.5, 15475: 0.5, 15483: 0.5, 15501: 0.5, 15717: 0.5, 16205: 0.0}\n"
          ],
          "name": "stdout"
        }
      ]
    },
    {
      "cell_type": "code",
      "metadata": {
        "id": "uJlUuU_a8wYP",
        "colab_type": "code",
        "colab": {}
      },
      "source": [
        ""
      ],
      "execution_count": 0,
      "outputs": []
    }
  ]
}