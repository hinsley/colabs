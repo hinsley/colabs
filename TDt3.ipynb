{
  "nbformat": 4,
  "nbformat_minor": 0,
  "metadata": {
    "colab": {
      "name": "TDt3.ipynb",
      "provenance": [],
      "collapsed_sections": [],
      "authorship_tag": "ABX9TyNjPKDdAIchi09q+4IaW1Dn",
      "include_colab_link": true
    },
    "kernelspec": {
      "name": "python3",
      "display_name": "Python 3"
    }
  },
  "cells": [
    {
      "cell_type": "markdown",
      "metadata": {
        "id": "view-in-github",
        "colab_type": "text"
      },
      "source": [
        "<a href=\"https://colab.research.google.com/github/hinsley/colabs/blob/master/TDt3.ipynb\" target=\"_parent\"><img src=\"https://colab.research.google.com/assets/colab-badge.svg\" alt=\"Open In Colab\"/></a>"
      ]
    },
    {
      "cell_type": "markdown",
      "metadata": {
        "id": "9KpBr7z8Mj1L",
        "colab_type": "text"
      },
      "source": [
        "# TDt3\n",
        "\n",
        "Temporal difference learning model for tic-tac-toe\n",
        "\n",
        "Inspired by Sutton & Barto\n",
        "\n",
        "Plays as X"
      ]
    },
    {
      "cell_type": "markdown",
      "metadata": {
        "id": "QNBxbqZsZZpA",
        "colab_type": "text"
      },
      "source": [
        "Board position encodings:\n",
        "\n",
        "$\\begin{bmatrix}0 & 1 & 2 & 3 & 4 & 5 & 6 & 7 & 8\\end{bmatrix} \\to \\begin{pmatrix} 0 & 1 & 2 \\\\ 3 & 4 & 5 \\\\ 6 & 7 & 8 \\end{pmatrix}$"
      ]
    },
    {
      "cell_type": "code",
      "metadata": {
        "id": "Hc_AKD_-MfQD",
        "colab_type": "code",
        "colab": {}
      },
      "source": [
        "import numpy as np\n",
        "from typing import Dict, List, Optional, Tuple"
      ],
      "execution_count": 0,
      "outputs": []
    },
    {
      "cell_type": "code",
      "metadata": {
        "id": "hHiRIb0oRmUu",
        "colab_type": "code",
        "colab": {}
      },
      "source": [
        "ActionValue = Optional[float] # [0.0, 1.0]. Higher values are better. We\n",
        "                              # consider draws to be losses.\n",
        "\n",
        "PositionState = int # Enumeration. See below.\n",
        "VALUE_BLANK = 0\n",
        "VALUE_X = 1\n",
        "VALUE_O = 2\n",
        "\n",
        "BoardState = List[PositionState] # (3 x 3)\n",
        "\n",
        "EncodedBoardState = int # Trinary encoding."
      ],
      "execution_count": 0,
      "outputs": []
    },
    {
      "cell_type": "code",
      "metadata": {
        "id": "97bcfMuthH-k",
        "colab_type": "code",
        "colab": {},
        "cellView": "form"
      },
      "source": [
        "#@title f_eq(a: float, b: float, epsilon: float=1e-4) -> bool\n",
        "def f_eq(a: float, b: float, epsilon: float=1e-4) -> bool:\n",
        "  \"\"\" Test for float equivalency. Parameterizes rounding error tolerance. \"\"\"\n",
        "\n",
        "  return abs(a - b) < epsilon"
      ],
      "execution_count": 0,
      "outputs": []
    },
    {
      "cell_type": "code",
      "metadata": {
        "id": "nd9qpInXSPpx",
        "colab_type": "code",
        "cellView": "form",
        "colab": {}
      },
      "source": [
        "#@title eval_state(state: BoardState) -> ActionValue\n",
        "def eval_state(state: BoardState) -> ActionValue:\n",
        "  \"\"\"\n",
        "  Used to generate a fresh action value. Only evaluates win/lose/draw\n",
        "  conditions, outputting a 0.5 action value if the state does not signify the\n",
        "  end of a game.\n",
        "\n",
        "  Because it is not possible in Tic-Tac-Toe to achieve a board state such that\n",
        "  both players have three moves in a row [sic], we can stop evaluating once the\n",
        "  first row [sic] is detected.\n",
        "  \"\"\"\n",
        "  \n",
        "  for group in [\n",
        "    [0,1,2], # Rows\n",
        "    [3,4,5],\n",
        "    [6,7,8],\n",
        "    [0,3,6], # Columns\n",
        "    [1,4,7],\n",
        "    [2,5,8],\n",
        "    [0,4,8], # Diagonals\n",
        "    [2,4,6],\n",
        "  ]:\n",
        "    if state[group[0]] == state[group[1]] == state[group[2]]:\n",
        "      try:\n",
        "        return {\n",
        "          VALUE_X: 1.0,\n",
        "          VALUE_O: 0.0,\n",
        "        }[state[group[0]]]\n",
        "      except KeyError: # Row of blanks\n",
        "        continue\n",
        "  \n",
        "  if any([position == VALUE_BLANK for position in state]):\n",
        "    return 0.5 # Board contains an empty space and no win condition achieved\n",
        "  else:\n",
        "    return 0.75 # Draw"
      ],
      "execution_count": 0,
      "outputs": []
    },
    {
      "cell_type": "code",
      "metadata": {
        "id": "iddJu6sDsKsz",
        "colab_type": "code",
        "cellView": "form",
        "colab": {}
      },
      "source": [
        "#@title encode_board(state: BoardState) -> EncodedBoardState\n",
        "def encode_board(state: BoardState) -> EncodedBoardState:\n",
        "  \"\"\"\n",
        "  Encode a trinary board state into a single hashable value. Smallest position\n",
        "  is top left.\n",
        "  \"\"\"\n",
        "\n",
        "  return sum([value * 3 ** i for i, value in enumerate(state)])"
      ],
      "execution_count": 0,
      "outputs": []
    },
    {
      "cell_type": "code",
      "metadata": {
        "id": "KHFnimIup2Gb",
        "colab_type": "code",
        "cellView": "form",
        "colab": {}
      },
      "source": [
        "#@title decode_board(encoded_state: EncodedBoardState) -> BoardState\n",
        "def decode_board(encoded_state: EncodedBoardState) -> BoardState:\n",
        "  \"\"\"\n",
        "  Decode a single hashable representation of board state into an indexable\n",
        "  serialization of positions.\n",
        "  \"\"\"\n",
        "\n",
        "  return [encoded_state // (3 ** i) % 3 for i in range(9)]"
      ],
      "execution_count": 0,
      "outputs": []
    },
    {
      "cell_type": "code",
      "metadata": {
        "id": "biOXEeiq2DdH",
        "colab_type": "code",
        "cellView": "form",
        "colab": {}
      },
      "source": [
        "#@title pprint(state: Optional[BoardState])\n",
        "def pprint(state: BoardState):\n",
        "  \"\"\" Pretty prints a board state. \"\"\"\n",
        "  \n",
        "  if state is None:\n",
        "    return\n",
        "\n",
        "  def graphical_position_state(position_state: PositionState) -> str:\n",
        "    return {\n",
        "        VALUE_BLANK: \"-\",\n",
        "        VALUE_X: \"X\",\n",
        "        VALUE_O: \"O\",\n",
        "    }[position_state]\n",
        "  \n",
        "  print()\n",
        "  print(*[graphical_position_state(pstate) for pstate in state[:3]])\n",
        "  print(*[graphical_position_state(pstate) for pstate in state[3:6]])\n",
        "  print(*[graphical_position_state(pstate) for pstate in state[6:]])"
      ],
      "execution_count": 0,
      "outputs": []
    },
    {
      "cell_type": "code",
      "metadata": {
        "id": "MRyoAYwbvPXD",
        "colab_type": "code",
        "colab": {},
        "cellView": "form"
      },
      "source": [
        "#@title class ActionEvaluator()\n",
        "\n",
        "from random import randint\n",
        "\n",
        "class ActionEvaluator():\n",
        "\n",
        "  _action_values: Dict[EncodedBoardState, ActionValue]\n",
        "  _prev_state: EncodedBoardState\n",
        "\n",
        "\n",
        "  def __init__(self):\n",
        "\n",
        "    self._action_values = {0: 0.5}\n",
        "    self.reset_board_state()\n",
        "  \n",
        "\n",
        "  def reset_board_state(self):\n",
        "\n",
        "    self._prev_state = encode_board([VALUE_BLANK] * 9)\n",
        "\n",
        "\n",
        "  def evaluate(self, state: BoardState) -> ActionValue:\n",
        "\n",
        "    encoded_state = encode_board(state)\n",
        "\n",
        "    if not encoded_state in self._action_values: # Unexplored action.\n",
        "      self._action_values[encoded_state] = eval_state(state)\n",
        "    \n",
        "    return self._action_values[encoded_state]\n",
        "\n",
        "\n",
        "  def back_up_value(self,\n",
        "                    new_state: BoardState,\n",
        "                    learning_rate: float=0.9):\n",
        "    \n",
        "    self._action_values[self._prev_state] += learning_rate * (self.evaluate(new_state) - self.evaluate(decode_board(self._prev_state)))\n",
        "    self._prev_state = encode_board(new_state)\n",
        "\n",
        "\n",
        "  def best_move(self, state: BoardState) -> BoardState:\n",
        "\n",
        "    def possible_move_generator():\n",
        "\n",
        "      for i, position_value in enumerate(state):\n",
        "        if position_value == VALUE_BLANK:\n",
        "          state_after_move = state.copy()\n",
        "          state_after_move[i] = VALUE_X\n",
        "          yield state_after_move\n",
        "    possible_states = possible_move_generator()\n",
        "\n",
        "    max_action_value, argmax = 0.0, []\n",
        "    for new_state in possible_states:\n",
        "      action_value = self.evaluate(new_state)\n",
        "      if action_value >= max_action_value: # Found a better/equal move!\n",
        "        if action_value != max_action_value:\n",
        "          argmax = []\n",
        "        max_action_value = action_value\n",
        "        argmax.append(new_state)\n",
        "      if f_eq(max_action_value, 1.0): # No point in looking for a better move.\n",
        "        break\n",
        "\n",
        "    # We never have to worry about accessing an empty list here, as that means\n",
        "    # we've already reached a draw.\n",
        "\n",
        "    return argmax[randint(0, len(argmax)-1)]"
      ],
      "execution_count": 0,
      "outputs": []
    },
    {
      "cell_type": "code",
      "metadata": {
        "id": "JRdbBB2P8jW5",
        "colab_type": "code",
        "cellView": "form",
        "colab": {}
      },
      "source": [
        "#@title move_o(action_evaluator: ActionEvaluator, state: BoardState, row: int, col: int) -> Optional[BoardState]\n",
        "def move_o(action_evaluator: ActionEvaluator, state: BoardState, row: int, col: int) -> Optional[BoardState]:\n",
        "  \"\"\" Makes a move for O in place. Row and col are zero-indexed. \"\"\"\n",
        "  \n",
        "  if state[row * 3 + col] != VALUE_BLANK:\n",
        "    print(\"That's not valid -- someone has already moved there!\")\n",
        "    return\n",
        "\n",
        "  prev_state = state.copy()\n",
        "  state[row * 3 + col] = VALUE_O\n",
        "\n",
        "  if eval_state(state) == 0.0:\n",
        "    print(\"O wins!\")\n",
        "    action_evaluator.back_up_value(state)\n",
        "\n",
        "  return state"
      ],
      "execution_count": 0,
      "outputs": []
    },
    {
      "cell_type": "code",
      "metadata": {
        "id": "lmPKzx5u_5mv",
        "colab_type": "code",
        "cellView": "form",
        "colab": {}
      },
      "source": [
        "#@title move_x(action_evaluator: ActionEvaluator, state: BoardState) -> BoardState\n",
        "def move_x(action_evaluator: ActionEvaluator, state: BoardState) -> BoardState:\n",
        "  \"\"\" Makes the best known move for X in place. \"\"\"\n",
        "\n",
        "  prev_state = state.copy()\n",
        "  state[:] = action_evaluator.best_move(state)\n",
        "  action_evaluator.back_up_value(state)\n",
        "\n",
        "  state_value = eval_state(state)\n",
        "  if f_eq(1.0, state_value):\n",
        "    print(\"X wins!\")\n",
        "  elif f_eq(0.75, state_value):\n",
        "    print(\"Draw!\")\n",
        "\n",
        "  return state"
      ],
      "execution_count": 0,
      "outputs": []
    },
    {
      "cell_type": "code",
      "metadata": {
        "id": "cfPOhVp5W4oy",
        "colab_type": "code",
        "colab": {},
        "cellView": "form"
      },
      "source": [
        "#@title Delete knowledge of the game\n",
        "try:\n",
        "  del initialized\n",
        "  del action_evaluator\n",
        "  print(\"Knowledge deleted successfully.\")\n",
        "except:\n",
        "  print(\"Cannot delete knowledge -- it doesn't exist!\")"
      ],
      "execution_count": 0,
      "outputs": []
    },
    {
      "cell_type": "code",
      "metadata": {
        "id": "VpJhKS7fUMpR",
        "colab_type": "code",
        "colab": {},
        "cellView": "form"
      },
      "source": [
        "#@title Load knowledge of the game\n",
        "\n",
        "knowledge = \"\" #@param {type: \"string\"}\n",
        "\n",
        "try:\n",
        "  initialized = initialized\n",
        "except:\n",
        "  action_evaluator = ActionEvaluator()\n",
        "\n",
        "initialized = 0\n",
        "\n",
        "try:\n",
        "  action_evaluator._action_values = eval(knowledge)\n",
        "  print(\"Knowledge loaded successfully.\")\n",
        "except:\n",
        "  print(\"Cannot load knowledge -- invalid.\")"
      ],
      "execution_count": 0,
      "outputs": []
    },
    {
      "cell_type": "code",
      "metadata": {
        "id": "bEH1wGujzLZw",
        "colab_type": "code",
        "cellView": "form",
        "outputId": "83d61f5f-356a-4328-9970-730d0ac77a67",
        "colab": {
          "base_uri": "https://localhost:8080/",
          "height": 102
        }
      },
      "source": [
        "#@title Turn 1: New game\n",
        "\n",
        "try:\n",
        "  initialized += 1\n",
        "  action_evaluator.reset_board_state()\n",
        "except:\n",
        "  print(\"Initializing ActionEvaluator\")\n",
        "  initialized = 1\n",
        "  action_evaluator = ActionEvaluator()\n",
        "\n",
        "board_state = [VALUE_BLANK] * 9\n",
        "\n",
        "print(f\"Game {initialized} - Turn 1\")\n",
        "pprint(move_x(action_evaluator, board_state))"
      ],
      "execution_count": 807,
      "outputs": [
        {
          "output_type": "stream",
          "text": [
            "Game 3 - Turn 1\n",
            "\n",
            "- - -\n",
            "- X -\n",
            "- - -\n"
          ],
          "name": "stdout"
        }
      ]
    },
    {
      "cell_type": "code",
      "metadata": {
        "id": "qRkGAhWW8SI2",
        "colab_type": "code",
        "cellView": "form",
        "outputId": "6683f8ea-e850-40cc-b4b6-09c70a228e1d",
        "colab": {
          "base_uri": "https://localhost:8080/",
          "height": 85
        }
      },
      "source": [
        "#@title Turns 2-3\n",
        "\n",
        "row =  \"Bottom\"#@param [\"Top\", \"Middle\", \"Bottom\"]\n",
        "column =  \"Middle\"#@param [\"Left\", \"Middle\", \"Right\"]\n",
        "\n",
        "row = {\n",
        "    \"Top\": 0,\n",
        "    \"Middle\": 1,\n",
        "    \"Bottom\": 2,\n",
        "}[row]\n",
        "\n",
        "column = {\n",
        "    \"Left\": 0,\n",
        "    \"Middle\": 1,\n",
        "    \"Right\": 2,\n",
        "}[column]\n",
        "\n",
        "if not move_o(action_evaluator, board_state, row, column) is None:\n",
        "  if f_eq(0.0, eval_state(board_state)):\n",
        "    pprint(board_state)\n",
        "  else:\n",
        "    pprint(move_x(action_evaluator, board_state))"
      ],
      "execution_count": 808,
      "outputs": [
        {
          "output_type": "stream",
          "text": [
            "\n",
            "- - -\n",
            "- X -\n",
            "X O -\n"
          ],
          "name": "stdout"
        }
      ]
    },
    {
      "cell_type": "code",
      "metadata": {
        "id": "7U06lkX-BkmC",
        "colab_type": "code",
        "cellView": "form",
        "outputId": "e91f1772-2cec-417c-bb69-e910f2781184",
        "colab": {
          "base_uri": "https://localhost:8080/",
          "height": 85
        }
      },
      "source": [
        "#@title Turns 4-5\n",
        "\n",
        "row =  \"Top\"#@param [\"Top\", \"Middle\", \"Bottom\"]\n",
        "column =  \"Right\"#@param [\"Left\", \"Middle\", \"Right\"]\n",
        "\n",
        "row = {\n",
        "    \"Top\": 0,\n",
        "    \"Middle\": 1,\n",
        "    \"Bottom\": 2,\n",
        "}[row]\n",
        "\n",
        "column = {\n",
        "    \"Left\": 0,\n",
        "    \"Middle\": 1,\n",
        "    \"Right\": 2,\n",
        "}[column]\n",
        "\n",
        "if not move_o(action_evaluator, board_state, row, column) is None:\n",
        "  if f_eq(0.0, eval_state(board_state)):\n",
        "    pprint(board_state)\n",
        "  else:\n",
        "    pprint(move_x(action_evaluator, board_state))"
      ],
      "execution_count": 809,
      "outputs": [
        {
          "output_type": "stream",
          "text": [
            "\n",
            "- - O\n",
            "X X -\n",
            "X O -\n"
          ],
          "name": "stdout"
        }
      ]
    },
    {
      "cell_type": "code",
      "metadata": {
        "id": "RnmIr_wvBr4Y",
        "colab_type": "code",
        "cellView": "form",
        "outputId": "b35d9863-65a3-4a5f-ef96-e550f4e9c2dc",
        "colab": {
          "base_uri": "https://localhost:8080/",
          "height": 102
        }
      },
      "source": [
        "#@title Turns 6-7\n",
        "\n",
        "row =  \"Top\"#@param [\"Top\", \"Middle\", \"Bottom\"]\n",
        "column =  \"Left\"#@param [\"Left\", \"Middle\", \"Right\"]\n",
        "\n",
        "row = {\n",
        "    \"Top\": 0,\n",
        "    \"Middle\": 1,\n",
        "    \"Bottom\": 2,\n",
        "}[row]\n",
        "\n",
        "column = {\n",
        "    \"Left\": 0,\n",
        "    \"Middle\": 1,\n",
        "    \"Right\": 2,\n",
        "}[column]\n",
        "\n",
        "if not move_o(action_evaluator, board_state, row, column) is None:\n",
        "  if f_eq(0.0, eval_state(board_state)):\n",
        "    pprint(board_state)\n",
        "  else:\n",
        "    pprint(move_x(action_evaluator, board_state))"
      ],
      "execution_count": 810,
      "outputs": [
        {
          "output_type": "stream",
          "text": [
            "X wins!\n",
            "\n",
            "O - O\n",
            "X X X\n",
            "X O -\n"
          ],
          "name": "stdout"
        }
      ]
    },
    {
      "cell_type": "code",
      "metadata": {
        "id": "XogaCZ2xGFwd",
        "colab_type": "code",
        "cellView": "form",
        "colab": {}
      },
      "source": [
        "#@title Turns 8-9: Showdown!\n",
        "\n",
        "row =  \"Top\"#@param [\"Top\", \"Middle\", \"Bottom\"]\n",
        "column =  \"Middle\"#@param [\"Left\", \"Middle\", \"Right\"]\n",
        "\n",
        "row = {\n",
        "    \"Top\": 0,\n",
        "    \"Middle\": 1,\n",
        "    \"Bottom\": 2,\n",
        "}[row]\n",
        "\n",
        "column = {\n",
        "    \"Left\": 0,\n",
        "    \"Middle\": 1,\n",
        "    \"Right\": 2,\n",
        "}[column]\n",
        "\n",
        "if not move_o(action_evaluator, board_state, row, column) is None:\n",
        "  if f_eq(0.0, eval_state(board_state)):\n",
        "    pprint(board_state)\n",
        "  else:\n",
        "    pprint(move_x(action_evaluator, board_state))"
      ],
      "execution_count": 0,
      "outputs": []
    },
    {
      "cell_type": "code",
      "metadata": {
        "id": "S5PFZ_-JL2Kn",
        "colab_type": "code",
        "cellView": "form",
        "colab": {}
      },
      "source": [
        "#@title Run and copy the result of this cell to save/share your model's learned knowledge.\n",
        "print(action_evaluator._action_values)"
      ],
      "execution_count": 0,
      "outputs": []
    },
    {
      "cell_type": "code",
      "metadata": {
        "id": "uJlUuU_a8wYP",
        "colab_type": "code",
        "colab": {}
      },
      "source": [
        ""
      ],
      "execution_count": 0,
      "outputs": []
    }
  ]
}