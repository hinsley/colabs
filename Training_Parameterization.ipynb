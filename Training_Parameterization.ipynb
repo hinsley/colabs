{
  "nbformat": 4,
  "nbformat_minor": 0,
  "metadata": {
    "colab": {
      "name": "Training Parameterization.ipynb",
      "provenance": [],
      "include_colab_link": true
    },
    "kernelspec": {
      "name": "python3",
      "display_name": "Python 3"
    }
  },
  "cells": [
    {
      "cell_type": "markdown",
      "metadata": {
        "id": "view-in-github",
        "colab_type": "text"
      },
      "source": [
        "<a href=\"https://colab.research.google.com/github/hinsley/colabs/blob/master/Training_Parameterization.ipynb\" target=\"_parent\"><img src=\"https://colab.research.google.com/assets/colab-badge.svg\" alt=\"Open In Colab\"/></a>"
      ]
    },
    {
      "cell_type": "markdown",
      "metadata": {
        "id": "eEIkNhzH19lj",
        "colab_type": "text"
      },
      "source": [
        "# Motivation\n",
        "\n",
        "A coach has a set of tools he uses to develop a training plan and continually tailor it to the ever-evolving needs of his client. The tools among coaches across different resistance training disciplines tend to overlap almost completely. If it is possible to construct an expressive and comprehensive unified parameterization of the concepts these tools deal with, then a powerful analytical model of training becomes available to us.\n",
        "\n",
        "# Metrics\n",
        "\n",
        "- `AI`: Absolute Intensity. Independent of exercise variation being used, this is an absolute measure of intensity of load. If expressed as a percentage, $\\text{AI} = \\frac{\\text{Load : kg}}{\\text{1RM : kg}}$. Otherwise, AI specifies the weight of a training load.\n",
        "- `AV`: Absolute Volume. Generally this is an expression of total work performed. For instance, if a trainee performs a total of 35 repetitions with a load of 205 kilograms, the absolute volume is $35 \\cdot 205 = 7175 \\text{kg}$.\n",
        "- `INOL`: Intensity \\* Number Of Lifts. Popularized by Hristo Hristov, this metric is commonly used to gauge the systemic stress induced by a training prescription, as well as to compare the relative stimulus incurred from multiple *groups* of sets with varying loading schemes and of varying quantities of repetitions. The name of this metric is a misnomer, as demonstrated by the non-linear denominator in the formula: $\\text{INOL} = \\frac{\\text{Sets Performed} \\cdot \\text{Repetitions Per Set}}{100 - \\text{(% Relative Intensity)} \\cdot 100}$.\n",
        "- `Intensity`: We use the term Intensity to refer to loads via various metrics. The most common unit is a percentage of one-repetition maximum load used, but may also be given as a RIR or RPE rating.\n",
        "- `IA`: Intensity Amplitude. In performing similar or accessory exercises to a competition movement, a trainee will often be able to perform more or fewer repetitions of the variation than he would of the competition movement. Therefore IA is used to calculate RI, as it gives an indication of various factors like systemic stress (transitively via INOL). $\\text{IA} = \\frac{\\text{Competition Movement 1RM}}{\\text{Variation Movement 1RM}}$.\n",
        "- `IM`: Intensity Modifier. Used for deloads or progressive overloads, often varying per microcycle, IM is a way of linearly scaling training loads for a set of training prescriptions. \n",
        "- `Maximum Repetitions`: The quantity of repetitions of a movement a trainee may perform in order to reach failure.\n",
        "- `ORM` / `1RM`: One-Repetition Maximum. The maximum load that may be used such that a set of one repetition has a RIR rating of zero.\n",
        "- `RI`: Relative Intensity. $\\text{RI} = \\frac{\\text{AI} \\cdot \\text{IM}}{\\text{IA}}$.\n",
        "- `REQ`: Repetition-Endurance Quotient. This is used as a linear gauge of how close to failure a set is. The formula is $\\text{REQ} = \\frac{\\text{Repetitions Performed}}{\\text{Maximum Repetitions}}$. This metric may be used to predict technical quality of repetitions in a set.\n",
        "- `R-INOL`: Relative INOL. This is a somewhat well-known metric for scaling INOL ratings across different types of movements, so that their systemic stress can be compared and used to evaluate overall training stimulus. I argue that this system is too subjective and imprecise, varying excessively in precision from one trainee to another. A more empirical procedural method is used to derive overall stimulus needed to achieve a desired adaptive effect.\n",
        "- `RIR`: Repetitions In Reserve. After completing a set, RIR denotes the quantity of *additional* repetitions that would be required to reach failure. For instance, if one is able to complete 10 repetitions, but only performs 6, the set has a RIR rating of 4.\n",
        "- `RIR falloff`: Given a training prescription with at least the following constraints: `_xB @ L | XX:XX` (quantity of sets is not required), RIR falloff is an integer-valued function (typically linear) with real-valued result ($\\text{RIR falloff} : \\mathbb{N} \\mapsto \\mathbb{R}$) expressing how much RIR will decrease (or, perhaps usefully in the context of circuit training, increase) per set performed.\n",
        "- `RV`: Relative Volume. This is generally an expression of work performed in multiples of a 1RM load, given by the equation $\\text{RV} = \\text{RI} \\cdot \\text{Total Repetitions Performed}$. For instance, if a trainee performs a total of 35 repetitions at 82.5% of 1RM, this may be expressed as a relative volume of $35 \\cdot 0.825 = 28.875$.\n",
        "- `SV`: Set Volume. Simply put, this metric denotes sets total sets performed of some group of movements over a certain period of time."
      ]
    },
    {
      "cell_type": "code",
      "metadata": {
        "id": "YeDqC1--Htbh",
        "colab_type": "code",
        "colab": {}
      },
      "source": [
        "from typing import Callable, List, Tuple, Union"
      ],
      "execution_count": 0,
      "outputs": []
    },
    {
      "cell_type": "code",
      "metadata": {
        "id": "J8mvuUH1CiUs",
        "colab_type": "code",
        "outputId": "654f8973-302b-44d2-a30d-230979199295",
        "colab": {
          "base_uri": "https://localhost:8080/",
          "height": 204
        }
      },
      "source": [
        "import numpy as np\n",
        "import pandas as pd\n",
        "\n",
        "columns = [\"Movement\", \"Sets\", \"Repetitions\", \"Load (% 1RM)\"]\n",
        "\n",
        "def add_row(df: pd.DataFrame, row: List[Union[str, int, float]]) -> None:\n",
        "  return df.append(dict(zip(columns, row)), ignore_index=True)\n",
        "\n",
        "df = pd.DataFrame(columns=columns)\n",
        "\n",
        "rows = [\n",
        "  [\"Squat\", 3, 5, 0.8],\n",
        "  [\"Bench Press\", 1, 15, 0.65],\n",
        "  [\"Bench Press\", 1, 12, 0.675],\n",
        "  [\"Bench Press\", 3, 10, 0.7],\n",
        "  [\"Front Squat\", 4, 4, 0.875],\n",
        "]\n",
        "\n",
        "for row in rows:\n",
        "  global df\n",
        "  df = add_row(df, row)\n",
        "\n",
        "df[\"INOL\"] = df[\"Sets\"] * df[\"Repetitions\"] / (1 - df[r\"Load (% 1RM)\"]) / 100\n",
        "df"
      ],
      "execution_count": 3,
      "outputs": [
        {
          "output_type": "execute_result",
          "data": {
            "text/html": [
              "<div>\n",
              "<style scoped>\n",
              "    .dataframe tbody tr th:only-of-type {\n",
              "        vertical-align: middle;\n",
              "    }\n",
              "\n",
              "    .dataframe tbody tr th {\n",
              "        vertical-align: top;\n",
              "    }\n",
              "\n",
              "    .dataframe thead th {\n",
              "        text-align: right;\n",
              "    }\n",
              "</style>\n",
              "<table border=\"1\" class=\"dataframe\">\n",
              "  <thead>\n",
              "    <tr style=\"text-align: right;\">\n",
              "      <th></th>\n",
              "      <th>Movement</th>\n",
              "      <th>Sets</th>\n",
              "      <th>Repetitions</th>\n",
              "      <th>Load (% 1RM)</th>\n",
              "      <th>INOL</th>\n",
              "    </tr>\n",
              "  </thead>\n",
              "  <tbody>\n",
              "    <tr>\n",
              "      <th>0</th>\n",
              "      <td>Squat</td>\n",
              "      <td>3</td>\n",
              "      <td>5</td>\n",
              "      <td>0.800</td>\n",
              "      <td>0.75</td>\n",
              "    </tr>\n",
              "    <tr>\n",
              "      <th>1</th>\n",
              "      <td>Bench Press</td>\n",
              "      <td>1</td>\n",
              "      <td>15</td>\n",
              "      <td>0.650</td>\n",
              "      <td>0.428571</td>\n",
              "    </tr>\n",
              "    <tr>\n",
              "      <th>2</th>\n",
              "      <td>Bench Press</td>\n",
              "      <td>1</td>\n",
              "      <td>12</td>\n",
              "      <td>0.675</td>\n",
              "      <td>0.369231</td>\n",
              "    </tr>\n",
              "    <tr>\n",
              "      <th>3</th>\n",
              "      <td>Bench Press</td>\n",
              "      <td>3</td>\n",
              "      <td>10</td>\n",
              "      <td>0.700</td>\n",
              "      <td>1</td>\n",
              "    </tr>\n",
              "    <tr>\n",
              "      <th>4</th>\n",
              "      <td>Front Squat</td>\n",
              "      <td>4</td>\n",
              "      <td>4</td>\n",
              "      <td>0.875</td>\n",
              "      <td>1.28</td>\n",
              "    </tr>\n",
              "  </tbody>\n",
              "</table>\n",
              "</div>"
            ],
            "text/plain": [
              "      Movement Sets Repetitions  Load (% 1RM)      INOL\n",
              "0        Squat    3           5         0.800      0.75\n",
              "1  Bench Press    1          15         0.650  0.428571\n",
              "2  Bench Press    1          12         0.675  0.369231\n",
              "3  Bench Press    3          10         0.700         1\n",
              "4  Front Squat    4           4         0.875      1.28"
            ]
          },
          "metadata": {
            "tags": []
          },
          "execution_count": 3
        }
      ]
    },
    {
      "cell_type": "code",
      "metadata": {
        "id": "K1M5Ur8c2oiB",
        "colab_type": "code",
        "colab": {}
      },
      "source": [
        "df_mvmt = df.groupby(\"Movement\")"
      ],
      "execution_count": 0,
      "outputs": []
    },
    {
      "cell_type": "code",
      "metadata": {
        "id": "sKMnAlE8EFIS",
        "colab_type": "code",
        "outputId": "ed61d3a0-d61a-4bb7-80ae-baa2c3444bdd",
        "colab": {
          "base_uri": "https://localhost:8080/",
          "height": 119
        }
      },
      "source": [
        "print(\"Total INOL\")\n",
        "\n",
        "df_mvmt.apply(lambda mvmt: sum(mvmt[\"INOL\"]))"
      ],
      "execution_count": 5,
      "outputs": [
        {
          "output_type": "stream",
          "text": [
            "Total INOL\n"
          ],
          "name": "stdout"
        },
        {
          "output_type": "execute_result",
          "data": {
            "text/plain": [
              "Movement\n",
              "Bench Press    1.797802\n",
              "Front Squat    1.280000\n",
              "Squat          0.750000\n",
              "dtype: float64"
            ]
          },
          "metadata": {
            "tags": []
          },
          "execution_count": 5
        }
      ]
    },
    {
      "cell_type": "code",
      "metadata": {
        "id": "uzcVMOLfMhC5",
        "colab_type": "code",
        "outputId": "20f59731-7a33-44dc-a37a-efd017fb22a1",
        "colab": {
          "base_uri": "https://localhost:8080/",
          "height": 119
        }
      },
      "source": [
        "print(\"Set Volume\")\n",
        "\n",
        "df_mvmt.apply(lambda mvmt: sum(mvmt[\"Sets\"]))"
      ],
      "execution_count": 6,
      "outputs": [
        {
          "output_type": "stream",
          "text": [
            "Set Volume\n"
          ],
          "name": "stdout"
        },
        {
          "output_type": "execute_result",
          "data": {
            "text/plain": [
              "Movement\n",
              "Bench Press    5\n",
              "Front Squat    4\n",
              "Squat          3\n",
              "dtype: int64"
            ]
          },
          "metadata": {
            "tags": []
          },
          "execution_count": 6
        }
      ]
    },
    {
      "cell_type": "code",
      "metadata": {
        "id": "uIIbBU_G2I04",
        "colab_type": "code",
        "outputId": "c71e61e8-49d6-47b1-b598-0a574faccd54",
        "colab": {
          "base_uri": "https://localhost:8080/",
          "height": 119
        }
      },
      "source": [
        "print(\"Total Repetitions\")\n",
        "\n",
        "df_mvmt.apply(lambda mvmt: np.dot(mvmt[\"Sets\"], mvmt[\"Repetitions\"]))"
      ],
      "execution_count": 7,
      "outputs": [
        {
          "output_type": "stream",
          "text": [
            "Total Repetitions\n"
          ],
          "name": "stdout"
        },
        {
          "output_type": "execute_result",
          "data": {
            "text/plain": [
              "Movement\n",
              "Bench Press    57\n",
              "Front Squat    16\n",
              "Squat          15\n",
              "dtype: int64"
            ]
          },
          "metadata": {
            "tags": []
          },
          "execution_count": 7
        }
      ]
    },
    {
      "cell_type": "markdown",
      "metadata": {
        "id": "eIDRR-HdPINd",
        "colab_type": "text"
      },
      "source": [
        "# One-Rep Maximum Formulas\n",
        "\n",
        "In the following equations, $r$ denotes maximum number of repetitions possible and $w$ denotes weight of training load.\n",
        "\n",
        "### Epley\n",
        "\n",
        "$\\text{1RM} = w \\left( 1 + \\frac{r}{30} \\right)$\n",
        "\n",
        "### Brzycki\n",
        "\n",
        "$\\text{1RM} = w \\cdot \\frac{36}{37 - r}$\n",
        "\n",
        "### McGlothin\n",
        "\n",
        "$\\text{1RM} = \\frac{100w}{101.3 - 2.67123r}$\n",
        "\n",
        "### Lombardi\n",
        "\n",
        "$\\text{1RM} = w\\sqrt[10]{r} = wr^{0.1}$\n",
        "\n",
        "### Mayhew\n",
        "\n",
        "$\\text{1RM} = \\frac{100w}{52.2 + 41.9e^{-0.055r}}$\n",
        "\n",
        "### O'Conner\n",
        "\n",
        "$\\text{1RM} = w \\left( 1 + \\frac{r}{40} \\right)$\n",
        "\n",
        "### Wathen\n",
        "\n",
        "$\\text{1RM} = \\frac{100w}{48.8 + 53.8e^{-0.075r}}$"
      ]
    },
    {
      "cell_type": "code",
      "metadata": {
        "id": "siezmjfkRtfN",
        "colab_type": "code",
        "colab": {}
      },
      "source": [
        "import math\n",
        "import sympy\n",
        "from typing import Union\n",
        "\n",
        "class Formula:\n",
        "\n",
        "  o, w, r = sympy.symbols(\"o w r\")\n",
        "\n",
        "  @classmethod\n",
        "  def calculate(cls,\n",
        "                solve_for: sympy.Symbol,\n",
        "                orm: float=None,\n",
        "                weight: float=None,\n",
        "                reps: float=None):\n",
        "    if solve_for == cls.o:\n",
        "      return sympy.solve(cls.zero.subs(cls.w, weight).subs(cls.r, reps), solve_for)[0]\n",
        "    elif solve_for == cls.w:\n",
        "      return sympy.solve(cls.zero.subs(cls.o, orm).subs(cls.r, reps), solve_for)[0]\n",
        "    elif solve_for == cls.r:\n",
        "      return sympy.solve(cls.zero.subs(cls.o, orm).subs(cls.w, weight), solve_for)[0]\n",
        "  \n",
        "  @classmethod\n",
        "  def orm(cls, weight: float, reps: int) -> float:\n",
        "    return cls.calculate(Formula.o, weight=weight, reps=reps)\n",
        "\n",
        "  @classmethod\n",
        "  def max_reps(cls,\n",
        "               orm: float,\n",
        "               weight: float,\n",
        "               round_down=True) -> Union[int, float]:\n",
        "    result = cls.calculate(Formula.r, orm=orm, weight=weight)\n",
        "    return math.floor(result) if round_down else result\n",
        "\n",
        "  @classmethod\n",
        "  def rep_max(cls, orm: float, reps: int) -> float:\n",
        "    return cls.calculate(Formula.w, orm=orm, reps=reps)\n",
        "\n",
        "class ORM:\n",
        "  \"\"\"\n",
        "  Calculators for one-repetition maximum and other associated measures.\n",
        "\n",
        "  - `Formula.orm` takes in a weight used and number of repetitions performed and\n",
        "  returns the one-repetition maximum.\n",
        "  - `Formula.max_reps` takes in a one-repetition maximum and a weight to be used\n",
        "  and returns the number of repetitions one may complete in a single set. Note\n",
        "  that the return value is a float. The floor of this value must be taken to get\n",
        "  a physically meaningful quantity.\n",
        "  - `Formula.rep_max` takes in a one-repetition maximum and number of\n",
        "  repetitions to be completed in a set and returns the maximum weight one may\n",
        "  use. \n",
        "  \"\"\"\n",
        "\n",
        "  class Epley(Formula):\n",
        "\n",
        "    zero = Formula.w * (1 + Formula.r / 30) - Formula.o\n",
        "\n",
        "  class Brzycki(Formula):\n",
        "\n",
        "    zero = Formula.w * 36 / (37 - Formula.r) - Formula.o\n",
        "\n",
        "  class McGlothin(Formula):\n",
        "\n",
        "    zero = 100 * Formula.w / (101.3 - 2.67123 * Formula.r) - Formula.o\n",
        "      \n",
        "  class Lombardi(Formula):\n",
        "\n",
        "    zero = Formula.w * (Formula.r ** 0.1) - Formula.o\n",
        "      \n",
        "  class Mayhew(Formula):\n",
        "      \n",
        "    zero = 100 * Formula.w / (52.2 + 41.9 * (math.e ** (-0.055 * Formula.r))) - Formula.o\n",
        "\n",
        "  class OConner(Formula):\n",
        "\n",
        "    zero = Formula.w * (1 + Formula.r / 40) - Formula.o\n",
        "\n",
        "  class Wathen(Formula):\n",
        "\n",
        "    zero = 100 * Formula.w / (48.8 + 53.8 * (math.e ** (-0.075 * Formula.r))) - Formula.o\n"
      ],
      "execution_count": 0,
      "outputs": []
    },
    {
      "cell_type": "code",
      "metadata": {
        "id": "OmYrHGEGvwY2",
        "colab_type": "code",
        "outputId": "7f117bf6-36dc-4259-d293-1a5e9c3050c2",
        "colab": {
          "base_uri": "https://localhost:8080/",
          "height": 295
        }
      },
      "source": [
        "from matplotlib import pyplot as plt\n",
        "\n",
        "rep_upper_limit = 20\n",
        "\n",
        "rep_range = range(1, rep_upper_limit + 1)\n",
        "\n",
        "fig = plt.figure(facecolor=\"w\")\n",
        "plt.title(\"Response Profile of Popular 1RM Formulas\")\n",
        "plt.ylabel(\"Load (% 1RM)\")\n",
        "plt.xlabel(\"Repetitions performed\")\n",
        "plt.xticks(range(1, rep_upper_limit, 2))\n",
        "plt.grid()\n",
        "\n",
        "for formula in [var for var in vars(ORM) if not var.startswith(\"__\")]:\n",
        "  plt.plot(rep_range,\n",
        "           [getattr(ORM, formula).rep_max(100, reps) for reps in rep_range],\n",
        "           label=formula)\n",
        "\n",
        "plt.legend()\n",
        "plt.show()"
      ],
      "execution_count": 9,
      "outputs": [
        {
          "output_type": "display_data",
          "data": {
            "image/png": "[encoded data removed]",
            "text/plain": [
              "<Figure size 432x288 with 1 Axes>"
            ]
          },
          "metadata": {
            "tags": []
          }
        }
      ]
    },
    {
      "cell_type": "markdown",
      "metadata": {
        "id": "DEOGUKLxKdY-",
        "colab_type": "text"
      },
      "source": [
        "Given that the actual maximal % 1RM performed at 1 rep is going to be exactly 100%, we can rule out Mayhew's formula as probably less accurate than the others. And because McGlothin and Brzycki are so similar, and Brzycki produces the correct repetition maximum load at 1 rep, we can use Brzycki virtually any time McGlothin would work. We are left with the following formulas:\n",
        "\n",
        "- Epley,\n",
        "- Brzycki,\n",
        "- Lombardi, and\n",
        "- Wathen (and the perhaps obsolete O'Conner).\n",
        "\n",
        "Anecdotally, Lombardi and Wathen seem to produce the most accurate predictions.\n",
        "\n",
        "***But how can we do better?***\n",
        "\n",
        "Obviously the response profile is going to vary with each trainee and each movement performed.\n",
        "\n",
        "### TODO: Explain the following (data acquisition methods, rationale for Lagrange polynomial interpolation attempt, explanation of reciprocal function being similar to Brzycki, Wathen, etc.), clean up names (`f_val` is pretty undescriptive)."
      ]
    },
    {
      "cell_type": "code",
      "metadata": {
        "id": "MVXMOpDvDVAR",
        "colab_type": "code",
        "colab": {}
      },
      "source": [
        "f_val = {\n",
        "    1: 100,\n",
        "    2: 91.5,\n",
        "    3: 92,\n",
        "    5: 85,\n",
        "    7: 86,\n",
        "    10: 75,\n",
        "}"
      ],
      "execution_count": 0,
      "outputs": []
    },
    {
      "cell_type": "code",
      "metadata": {
        "id": "VlcRfNaWXxiP",
        "colab_type": "code",
        "colab": {}
      },
      "source": [
        "from scipy.interpolate import lagrange\n",
        "\n",
        "xs, ys = zip(*[(r, f_val[r]) for r in f_val])"
      ],
      "execution_count": 0,
      "outputs": []
    },
    {
      "cell_type": "code",
      "metadata": {
        "colab_type": "code",
        "outputId": "c3a20eb0-c25b-490f-9179-ba2355c33a1a",
        "id": "EcLOz2s-Pce6",
        "colab": {
          "base_uri": "https://localhost:8080/",
          "height": 312
        }
      },
      "source": [
        "poly = lagrange(reps, intensities)\n",
        "xs = range(1, 15)\n",
        "ys = [poly(x) for x in xs]\n",
        "\n",
        "fig = plt.figure(facecolor=\"w\")\n",
        "plt.title(\"Load Capacity Per Repetition Estimation by Lagrange Polynomial Interpolation\")\n",
        "plt.ylabel(\"Load (% 1RM)\")\n",
        "plt.xlabel(\"Repetitions performed\")\n",
        "plt.xticks(range(1, rep_upper_limit, 2))\n",
        "plt.grid()\n",
        "\n",
        "plt.scatter(reps, intensities) # Plot real data points.\n",
        "plt.plot(xs, ys) # Plot interpolated curve.\n",
        "plt.show()\n",
        "\n",
        "print(f\"1RM: {poly(1)}\")"
      ],
      "execution_count": 27,
      "outputs": [
        {
          "output_type": "display_data",
          "data": {
            "image/png": "[encoded data removed]",
            "text/plain": [
              "<Figure size 432x288 with 1 Axes>"
            ]
          },
          "metadata": {
            "tags": []
          }
        },
        {
          "output_type": "stream",
          "text": [
            "1RM: 100.00000000000001\n"
          ],
          "name": "stdout"
        }
      ]
    },
    {
      "cell_type": "markdown",
      "metadata": {
        "id": "2se0lLYDTdIv",
        "colab_type": "text"
      },
      "source": [
        "This is pretty terrible, as the extrapolation to the right of the data set is obviously impossible. Let's try fitting a reciprocal function to the dataset, using the function $f(r) = \\frac{a}{x - b} + c$."
      ]
    },
    {
      "cell_type": "code",
      "metadata": {
        "id": "u8BZ-18JXT69",
        "colab_type": "code",
        "colab": {
          "base_uri": "https://localhost:8080/",
          "height": 346
        },
        "outputId": "9753b605-db1f-4132-ed6e-2320f5f3b7a5"
      },
      "source": [
        "import numpy as np\n",
        "from scipy.optimize import curve_fit\n",
        "from random import randint\n",
        "from sympy import symbols\n",
        "\n",
        "def reciprocal_curve(x, a, b, c):\n",
        "  # TODO: Prune f_val to make it prefer data points with lower reps (n-duplication).\n",
        "  return abs(a) / (x + abs(b)) + abs(c)\n",
        "\n",
        "initial_guesses = [0, 0, 0]\n",
        "while True:\n",
        "  try:\n",
        "    popt, pcov = curve_fit(reciprocal_curve, reps, intensities, p0=initial_guesses)\n",
        "  except RuntimeError:\n",
        "    initial_guesses = [guess + randint(-1, 1) for guess in initial_guesses]\n",
        "  else:\n",
        "    break\n",
        "\n",
        "curve = lambda x: reciprocal_curve(x, *popt)\n",
        "\n",
        "fig = plt.figure(facecolor=\"w\")\n",
        "plt.title(\"Load Capacity Per Repetition Estimation by Reciprocal Fitting\")\n",
        "plt.ylabel(\"Load (% 1RM)\")\n",
        "plt.xlabel(\"Repetitions performed\")\n",
        "plt.xticks(range(1, rep_upper_limit, 2))\n",
        "plt.grid()\n",
        "\n",
        "plt.scatter(reps, intensities)\n",
        "plt.plot(xs, curve(xs))\n",
        "plt.show()\n",
        "\n",
        "x = symbols(\"repetitions\")\n",
        "\n",
        "print(f\"max_load(repetitions) = {curve(x)}\")"
      ],
      "execution_count": 29,
      "outputs": [
        {
          "output_type": "stream",
          "text": [
            "/usr/local/lib/python3.6/dist-packages/scipy/optimize/minpack.py:795: OptimizeWarning: Covariance of the parameters could not be estimated\n",
            "  category=OptimizeWarning)\n"
          ],
          "name": "stderr"
        },
        {
          "output_type": "display_data",
          "data": {
            "image/png": "[encoded data removed]",
            "text/plain": [
              "<Figure size 432x288 with 1 Axes>"
            ]
          },
          "metadata": {
            "tags": []
          }
        },
        {
          "output_type": "stream",
          "text": [
            "max_load(repetitions) = 74.3589743589739 + 68.3760683760716/(repetitions + 1.66666666666675)\n"
          ],
          "name": "stdout"
        }
      ]
    },
    {
      "cell_type": "markdown",
      "metadata": {
        "id": "rstze4teTvX0",
        "colab_type": "text"
      },
      "source": [
        "That's a great result!"
      ]
    },
    {
      "cell_type": "markdown",
      "metadata": {
        "id": "YLcP1IFGvBq-",
        "colab_type": "text"
      },
      "source": [
        "# Prilepin's Chart of Training Volume"
      ]
    },
    {
      "cell_type": "code",
      "metadata": {
        "id": "fZdSwVeezWpt",
        "colab_type": "code",
        "colab": {}
      },
      "source": [
        "import pandas as pd\n",
        "\n",
        "prilepin = pd.DataFrame({\n",
        "    \"Percent\": [(55, 65), (70, 80), (80, 90), (90, 95)],\n",
        "    \"Reps/set\": [(3, 6), (3, 6), (2, 4), (1, 2)],\n",
        "    \"Optimal\": [24, 18, 15, 4],\n",
        "    \"Total Range\": [(18, 30), (12, 24), (10, 20), (10,)]\n",
        "})\n",
        "\n",
        "prilepin"
      ],
      "execution_count": 0,
      "outputs": []
    },
    {
      "cell_type": "code",
      "metadata": {
        "id": "h80_x3loC619",
        "colab_type": "code",
        "colab": {}
      },
      "source": [
        "prilepin[\"INOL (Optimal)\"] = tuple(map((lambda data: [round(data[0] / load, 2) for\n",
        "                                                      load in\n",
        "                                                      data[1]]),\n",
        "                                       zip(prilepin[\"Optimal\"],\n",
        "                                           prilepin[\"Percent\"])))\n",
        "\n",
        "prilepin[\"INOL (Range)\"] = tuple(map(lambda data: [[round(load / reps, 2) for load in data[1]] for reps in data[0]], zip(prilepin[\"Total Range\"], prilepin[\"Percent\"])))\n",
        "\n",
        "prilepin"
      ],
      "execution_count": 0,
      "outputs": []
    }
  ]
}