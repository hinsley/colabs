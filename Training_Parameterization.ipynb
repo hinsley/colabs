{
  "nbformat": 4,
  "nbformat_minor": 0,
  "metadata": {
    "colab": {
      "name": "Training Parameterization.ipynb",
      "provenance": [],
      "include_colab_link": true
    },
    "kernelspec": {
      "name": "python3",
      "display_name": "Python 3"
    }
  },
  "cells": [
    {
      "cell_type": "markdown",
      "metadata": {
        "id": "view-in-github",
        "colab_type": "text"
      },
      "source": [
        "<a href=\"https://colab.research.google.com/github/hinsley/colabs/blob/master/Training_Parameterization.ipynb\" target=\"_parent\"><img src=\"https://colab.research.google.com/assets/colab-badge.svg\" alt=\"Open In Colab\"/></a>"
      ]
    },
    {
      "cell_type": "markdown",
      "metadata": {
        "id": "eEIkNhzH19lj",
        "colab_type": "text"
      },
      "source": [
        "# Motivation\n",
        "\n",
        "A coach has a set of heuristic tricks he uses to develop a training plan and continually tailor it to the ever-evolving needs of his client. The heuristics among coaches across different resistance training disciplines tend to exhibit a finite set of similarities that generally encompass their full breadth. If it is possible to construct an expressive and comprehensive parameterization of these heuristics and the prescriptive techniques that involve them, then a powerful analytical model of training becomes available to us.\n",
        "\n",
        "# Training Prescription Notation\n",
        "\n",
        "- ```AxB, C @ [L or \"RIR N\"] | XX:XX```: `A` sets of `B` repetitions, followed by one set of `C` repetitions, all at `L` load (or at a load which produces a RIR rating of `N` on the first set performed), with `XX:XX` (minutes:seconds) rest time between sets.\n",
        "\n",
        "# Metrics\n",
        "\n",
        "- `AV`: Absolute Volume. Generally this is an expression of total work performed. For instance, if a trainee performs a total of 35 repetitions with a load of 205 kilograms, the absolute volume is $35 \\cdot 205 = 7175 \\text{kg}$.\n",
        "- `INOL`: Intensity \\* Number Of Lifts. Popularized by Hristo Hristov, this metric is frequently used to gauge the systemic stress induced by a training prescription, as well as to compare the relative stimulus incurred from multiple *groups* of sets with varying loading schemes and of varying quantities of repetitions. The name of this metric is a misnomer, as demonstrated by the non-linear denominator in the formula: $\\text{INOL} = \\frac{\\text{Sets Performed} \\cdot \\text{Repetitions Per Set}}{100 - \\text{(% Intensity)} \\cdot 100}$.\n",
        "- `Maximum Repetitions`: The quantity of repetitions of a movement a trainee may perform in order to reach failure.\n",
        "- `ORM` / `1RM`: One-Repetition Maximum. The maximum load that may be used such that a set of one repetition has a RIR rating of zero.\n",
        "- `REQ`: Repetition-Endurance Quotient. This is used as a linear gauge of how close to failure a set is. The formula is $\\text{REQ} = \\frac{\\text{Repetitions Performed}}{\\text{Maximum Repetitions}}$. This metric may be used to predict technical quality of repetitions in a set.\n",
        "- `RIR`: Repetitions In Reserve. After completing a set, RIR denotes the quantity of *additional* repetitions that would be required to reach failure. For instance, if one is able to complete 10 repetitions, but only performs 6, the set has a RIR rating of 4.\n",
        "- `RIR falloff`: Given a training prescription with at least the following constraints: `_xB @ L | XX:XX` (quantity of sets is not required), RIR falloff is an integer-valued function (typically linear) with real-valued result ($\\text{RIR falloff} : \\mathbb{N} \\mapsto \\mathbb{R}$) expressing how much RIR will decrease (or, perhaps usefully in the context of circuit training, increase) per set performed.\n",
        "- `RV`: Relative Volume. This is generally an expression of work performed in multiples of a 1RM load. For instance, if a trainee performs a total of 35 repetitions at 82.5% of 1RM, this may be expressed as a relative volume of $35 \\cdot 0.825 = 28.875$.\n",
        "- `SV`: Set Volume. Simply put, this metric denotes sets total sets performed of some group of movements over a certain period of time."
      ]
    },
    {
      "cell_type": "code",
      "metadata": {
        "id": "YeDqC1--Htbh",
        "colab_type": "code",
        "colab": {}
      },
      "source": [
        "from typing import Callable, List, Tuple, Union"
      ],
      "execution_count": 0,
      "outputs": []
    },
    {
      "cell_type": "code",
      "metadata": {
        "id": "J8mvuUH1CiUs",
        "colab_type": "code",
        "colab": {
          "base_uri": "https://localhost:8080/",
          "height": 204
        },
        "outputId": "3d3840b6-a00a-4019-c0e5-6bf8178da09a"
      },
      "source": [
        "import numpy as np\n",
        "import pandas as pd\n",
        "\n",
        "columns = [\"Movement\", \"Sets\", \"Repetitions\", \"Load (% 1RM)\"]\n",
        "\n",
        "def add_row(df: pd.DataFrame, row: List[Union[str, int, float]]) -> None:\n",
        "  return df.append(dict(zip(columns, row)), ignore_index=True)\n",
        "\n",
        "df = pd.DataFrame(columns=columns)\n",
        "\n",
        "rows = [\n",
        "  [\"Squat\", 3, 5, 0.8],\n",
        "  [\"Bench Press\", 1, 15, 0.65],\n",
        "  [\"Bench Press\", 1, 12, 0.675],\n",
        "  [\"Bench Press\", 3, 10, 0.7],\n",
        "  [\"Front Squat\", 4, 4, 0.875],\n",
        "]\n",
        "\n",
        "for row in rows:\n",
        "  global df\n",
        "  df = add_row(df, row)\n",
        "\n",
        "df[\"INOL\"] = df[\"Sets\"] * df[\"Repetitions\"] / (1 - df[r\"Load (% 1RM)\"]) / 100\n",
        "df"
      ],
      "execution_count": 85,
      "outputs": [
        {
          "output_type": "execute_result",
          "data": {
            "text/html": [
              "<div>\n",
              "<style scoped>\n",
              "    .dataframe tbody tr th:only-of-type {\n",
              "        vertical-align: middle;\n",
              "    }\n",
              "\n",
              "    .dataframe tbody tr th {\n",
              "        vertical-align: top;\n",
              "    }\n",
              "\n",
              "    .dataframe thead th {\n",
              "        text-align: right;\n",
              "    }\n",
              "</style>\n",
              "<table border=\"1\" class=\"dataframe\">\n",
              "  <thead>\n",
              "    <tr style=\"text-align: right;\">\n",
              "      <th></th>\n",
              "      <th>Movement</th>\n",
              "      <th>Sets</th>\n",
              "      <th>Repetitions</th>\n",
              "      <th>Load (% 1RM)</th>\n",
              "      <th>INOL</th>\n",
              "    </tr>\n",
              "  </thead>\n",
              "  <tbody>\n",
              "    <tr>\n",
              "      <th>0</th>\n",
              "      <td>Squat</td>\n",
              "      <td>3</td>\n",
              "      <td>5</td>\n",
              "      <td>0.800</td>\n",
              "      <td>0.75</td>\n",
              "    </tr>\n",
              "    <tr>\n",
              "      <th>1</th>\n",
              "      <td>Bench Press</td>\n",
              "      <td>1</td>\n",
              "      <td>15</td>\n",
              "      <td>0.650</td>\n",
              "      <td>0.428571</td>\n",
              "    </tr>\n",
              "    <tr>\n",
              "      <th>2</th>\n",
              "      <td>Bench Press</td>\n",
              "      <td>1</td>\n",
              "      <td>12</td>\n",
              "      <td>0.675</td>\n",
              "      <td>0.369231</td>\n",
              "    </tr>\n",
              "    <tr>\n",
              "      <th>3</th>\n",
              "      <td>Bench Press</td>\n",
              "      <td>3</td>\n",
              "      <td>10</td>\n",
              "      <td>0.700</td>\n",
              "      <td>1</td>\n",
              "    </tr>\n",
              "    <tr>\n",
              "      <th>4</th>\n",
              "      <td>Front Squat</td>\n",
              "      <td>4</td>\n",
              "      <td>4</td>\n",
              "      <td>0.875</td>\n",
              "      <td>1.28</td>\n",
              "    </tr>\n",
              "  </tbody>\n",
              "</table>\n",
              "</div>"
            ],
            "text/plain": [
              "      Movement Sets Repetitions  Load (% 1RM)      INOL\n",
              "0        Squat    3           5         0.800      0.75\n",
              "1  Bench Press    1          15         0.650  0.428571\n",
              "2  Bench Press    1          12         0.675  0.369231\n",
              "3  Bench Press    3          10         0.700         1\n",
              "4  Front Squat    4           4         0.875      1.28"
            ]
          },
          "metadata": {
            "tags": []
          },
          "execution_count": 85
        }
      ]
    },
    {
      "cell_type": "code",
      "metadata": {
        "id": "sKMnAlE8EFIS",
        "colab_type": "code",
        "colab": {
          "base_uri": "https://localhost:8080/",
          "height": 119
        },
        "outputId": "39bab472-edd2-4306-c73c-448f8bbc5469"
      },
      "source": [
        "print(\"INOL Per Movement\")\n",
        "\n",
        "df[[\"Movement\", \"INOL\"]].groupby(\"Movement\").apply(lambda sub_df: sum(sub_df[\"INOL\"]))"
      ],
      "execution_count": 89,
      "outputs": [
        {
          "output_type": "stream",
          "text": [
            "INOL Per Movement\n"
          ],
          "name": "stdout"
        },
        {
          "output_type": "execute_result",
          "data": {
            "text/plain": [
              "Movement\n",
              "Bench Press    1.797802\n",
              "Front Squat    1.280000\n",
              "Squat          0.750000\n",
              "dtype: float64"
            ]
          },
          "metadata": {
            "tags": []
          },
          "execution_count": 89
        }
      ]
    },
    {
      "cell_type": "code",
      "metadata": {
        "id": "uzcVMOLfMhC5",
        "colab_type": "code",
        "colab": {}
      },
      "source": [
        ""
      ],
      "execution_count": 0,
      "outputs": []
    }
  ]
}