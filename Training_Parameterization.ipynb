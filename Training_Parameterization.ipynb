{
  "nbformat": 4,
  "nbformat_minor": 0,
  "metadata": {
    "colab": {
      "name": "Training Parameterization.ipynb",
      "provenance": [],
      "include_colab_link": true
    },
    "kernelspec": {
      "name": "python3",
      "display_name": "Python 3"
    }
  },
  "cells": [
    {
      "cell_type": "markdown",
      "metadata": {
        "id": "view-in-github",
        "colab_type": "text"
      },
      "source": [
        "<a href=\"https://colab.research.google.com/github/hinsley/colabs/blob/master/Training_Parameterization.ipynb\" target=\"_parent\"><img src=\"https://colab.research.google.com/assets/colab-badge.svg\" alt=\"Open In Colab\"/></a>"
      ]
    },
    {
      "cell_type": "markdown",
      "metadata": {
        "id": "eEIkNhzH19lj",
        "colab_type": "text"
      },
      "source": [
        "# Motivation\n",
        "\n",
        "A coach has a set of tools he uses to develop a training plan and continually tailor it to the ever-evolving needs of his client. The tools among coaches across different resistance training disciplines tend to overlap almost completely. If it is possible to construct an expressive and comprehensive unified parameterization of the concepts these tools deal with, then a powerful analytical model of training becomes available to us.\n",
        "\n",
        "# Metrics\n",
        "\n",
        "- `AI`: Absolute Intensity. Independent of exercise variation being used, this is an absolute measure of intensity of load. If expressed as a percentage, $\\text{AI} = \\frac{\\text{Load : kg}}{\\text{1RM : kg}}$. Otherwise, AI specifies the weight of a training load.\n",
        "- `AV`: Absolute Volume. Generally this is an expression of total work performed. For instance, if a trainee performs a total of 35 repetitions with a load of 205 kilograms, the absolute volume is $35 \\cdot 205 = 7175 \\text{kg}$.\n",
        "- `INOL`: Intensity \\* Number Of Lifts. Popularized by Hristo Hristov, this metric is commonly used to gauge the systemic stress induced by a training prescription, as well as to compare the relative stimulus incurred from multiple *groups* of sets with varying loading schemes and of varying quantities of repetitions. The name of this metric is a misnomer, as demonstrated by the non-linear denominator in the formula: $\\text{INOL} = \\frac{\\text{Sets Performed} \\cdot \\text{Repetitions Per Set}}{100 - \\text{(% Relative Intensity)} \\cdot 100}$.\n",
        "- `Intensity`: We use the term Intensity to refer to loads via various metrics. The most common unit is a percentage of one-repetition maximum load used, but may also be given as a RIR or RPE rating.\n",
        "- `IA`: Intensity Amplitude. In performing similar or accessory exercises to a competition movement, a trainee will often be able to perform more or fewer repetitions of the variation than he would of the competition movement. Therefore IA is used to calculate RI, as it gives an indication of various factors like systemic stress (transitively via INOL). $\\text{IA} = \\frac{\\text{Competition Movement 1RM}}{\\text{Variation Movement 1RM}}$.\n",
        "- `IM`: Intensity Modifier. Used for deloads or progressive overloads, often varying per microcycle, IM is a way of linearly scaling training loads for a set of training prescriptions. \n",
        "- `Maximum Repetitions`: The quantity of repetitions of a movement a trainee may perform in order to reach failure.\n",
        "- `ORM` / `1RM`: One-Repetition Maximum. The maximum load that may be used such that a set of one repetition has a RIR rating of zero.\n",
        "- `RI`: Relative Intensity. $\\text{RI} = \\frac{\\text{AI} \\cdot \\text{IM}}{\\text{IA}}$.\n",
        "- `REQ`: Repetition-Endurance Quotient. This is used as a linear gauge of how close to failure a set is. The formula is $\\text{REQ} = \\frac{\\text{Repetitions Performed}}{\\text{Maximum Repetitions}}$. This metric may be used to predict technical quality of repetitions in a set.\n",
        "- `R-INOL`: Relative INOL. This is a somewhat well-known metric for scaling INOL ratings across different types of movements, so that their systemic stress can be compared and used to evaluate overall training stimulus. I argue that this system is too subjective and imprecise, varying excessively in precision from one trainee to another. A more empirical procedural method is used to derive overall stimulus needed to achieve a desired adaptive effect.\n",
        "- `RIR`: Repetitions In Reserve. After completing a set, RIR denotes the quantity of *additional* repetitions that would be required to reach failure. For instance, if one is able to complete 10 repetitions, but only performs 6, the set has a RIR rating of 4.\n",
        "- `RIR falloff`: Given a training prescription with at least the following constraints: `_xB @ L | XX:XX` (quantity of sets is not required), RIR falloff is an integer-valued function (typically linear) with real-valued result ($\\text{RIR falloff} : \\mathbb{N} \\mapsto \\mathbb{R}$) expressing how much RIR will decrease (or, perhaps usefully in the context of circuit training, increase) per set performed.\n",
        "- `RV`: Relative Volume. This is generally an expression of work performed in multiples of a 1RM load, given by the equation $\\text{RV} = \\text{RI} \\cdot \\text{Total Repetitions Performed}$. For instance, if a trainee performs a total of 35 repetitions at 82.5% of 1RM, this may be expressed as a relative volume of $35 \\cdot 0.825 = 28.875$.\n",
        "- `SV`: Set Volume. Simply put, this metric denotes sets total sets performed of some group of movements over a certain period of time."
      ]
    },
    {
      "cell_type": "code",
      "metadata": {
        "id": "YeDqC1--Htbh",
        "colab_type": "code",
        "colab": {}
      },
      "source": [
        "from typing import Callable, List, Tuple, Union"
      ],
      "execution_count": 0,
      "outputs": []
    },
    {
      "cell_type": "code",
      "metadata": {
        "id": "J8mvuUH1CiUs",
        "colab_type": "code",
        "outputId": "ebcc2681-bcd4-480b-bf88-77852db721d0",
        "colab": {
          "base_uri": "https://localhost:8080/",
          "height": 204
        }
      },
      "source": [
        "import numpy as np\n",
        "import pandas as pd\n",
        "\n",
        "columns = [\"Movement\", \"Sets\", \"Repetitions\", \"Load (% 1RM)\"]\n",
        "\n",
        "def add_row(df: pd.DataFrame, row: List[Union[str, int, float]]) -> None:\n",
        "  return df.append(dict(zip(columns, row)), ignore_index=True)\n",
        "\n",
        "df = pd.DataFrame(columns=columns)\n",
        "\n",
        "rows = [\n",
        "  [\"Squat\", 3, 5, 0.8],\n",
        "  [\"Bench Press\", 1, 15, 0.65],\n",
        "  [\"Bench Press\", 1, 12, 0.675],\n",
        "  [\"Bench Press\", 3, 10, 0.7],\n",
        "  [\"Front Squat\", 4, 4, 0.875],\n",
        "]\n",
        "\n",
        "for row in rows:\n",
        "  global df\n",
        "  df = add_row(df, row)\n",
        "\n",
        "df[\"INOL\"] = df[\"Sets\"] * df[\"Repetitions\"] / (1 - df[r\"Load (% 1RM)\"]) / 100\n",
        "df"
      ],
      "execution_count": 0,
      "outputs": [
        {
          "output_type": "execute_result",
          "data": {
            "text/html": [
              "<div>\n",
              "<style scoped>\n",
              "    .dataframe tbody tr th:only-of-type {\n",
              "        vertical-align: middle;\n",
              "    }\n",
              "\n",
              "    .dataframe tbody tr th {\n",
              "        vertical-align: top;\n",
              "    }\n",
              "\n",
              "    .dataframe thead th {\n",
              "        text-align: right;\n",
              "    }\n",
              "</style>\n",
              "<table border=\"1\" class=\"dataframe\">\n",
              "  <thead>\n",
              "    <tr style=\"text-align: right;\">\n",
              "      <th></th>\n",
              "      <th>Movement</th>\n",
              "      <th>Sets</th>\n",
              "      <th>Repetitions</th>\n",
              "      <th>Load (% 1RM)</th>\n",
              "      <th>INOL</th>\n",
              "    </tr>\n",
              "  </thead>\n",
              "  <tbody>\n",
              "    <tr>\n",
              "      <th>0</th>\n",
              "      <td>Squat</td>\n",
              "      <td>3</td>\n",
              "      <td>5</td>\n",
              "      <td>0.800</td>\n",
              "      <td>0.75</td>\n",
              "    </tr>\n",
              "    <tr>\n",
              "      <th>1</th>\n",
              "      <td>Bench Press</td>\n",
              "      <td>1</td>\n",
              "      <td>15</td>\n",
              "      <td>0.650</td>\n",
              "      <td>0.428571</td>\n",
              "    </tr>\n",
              "    <tr>\n",
              "      <th>2</th>\n",
              "      <td>Bench Press</td>\n",
              "      <td>1</td>\n",
              "      <td>12</td>\n",
              "      <td>0.675</td>\n",
              "      <td>0.369231</td>\n",
              "    </tr>\n",
              "    <tr>\n",
              "      <th>3</th>\n",
              "      <td>Bench Press</td>\n",
              "      <td>3</td>\n",
              "      <td>10</td>\n",
              "      <td>0.700</td>\n",
              "      <td>1</td>\n",
              "    </tr>\n",
              "    <tr>\n",
              "      <th>4</th>\n",
              "      <td>Front Squat</td>\n",
              "      <td>4</td>\n",
              "      <td>4</td>\n",
              "      <td>0.875</td>\n",
              "      <td>1.28</td>\n",
              "    </tr>\n",
              "  </tbody>\n",
              "</table>\n",
              "</div>"
            ],
            "text/plain": [
              "      Movement Sets Repetitions  Load (% 1RM)      INOL\n",
              "0        Squat    3           5         0.800      0.75\n",
              "1  Bench Press    1          15         0.650  0.428571\n",
              "2  Bench Press    1          12         0.675  0.369231\n",
              "3  Bench Press    3          10         0.700         1\n",
              "4  Front Squat    4           4         0.875      1.28"
            ]
          },
          "metadata": {
            "tags": []
          },
          "execution_count": 2
        }
      ]
    },
    {
      "cell_type": "code",
      "metadata": {
        "id": "K1M5Ur8c2oiB",
        "colab_type": "code",
        "colab": {}
      },
      "source": [
        "df_mvmt = df.groupby(\"Movement\")"
      ],
      "execution_count": 0,
      "outputs": []
    },
    {
      "cell_type": "code",
      "metadata": {
        "id": "sKMnAlE8EFIS",
        "colab_type": "code",
        "outputId": "ae2e9424-8579-42be-e259-4b9fcaeaf7de",
        "colab": {
          "base_uri": "https://localhost:8080/",
          "height": 119
        }
      },
      "source": [
        "print(\"Total INOL\")\n",
        "\n",
        "df_mvmt.apply(lambda mvmt: sum(mvmt[\"INOL\"]))"
      ],
      "execution_count": 0,
      "outputs": [
        {
          "output_type": "stream",
          "text": [
            "Total INOL\n"
          ],
          "name": "stdout"
        },
        {
          "output_type": "execute_result",
          "data": {
            "text/plain": [
              "Movement\n",
              "Bench Press    1.797802\n",
              "Front Squat    1.280000\n",
              "Squat          0.750000\n",
              "dtype: float64"
            ]
          },
          "metadata": {
            "tags": []
          },
          "execution_count": 4
        }
      ]
    },
    {
      "cell_type": "code",
      "metadata": {
        "id": "uzcVMOLfMhC5",
        "colab_type": "code",
        "outputId": "4f4b66ba-b944-435a-9e53-fad0e1c4c4d0",
        "colab": {
          "base_uri": "https://localhost:8080/",
          "height": 119
        }
      },
      "source": [
        "print(\"Set Volume\")\n",
        "\n",
        "df_mvmt.apply(lambda mvmt: sum(mvmt[\"Sets\"]))"
      ],
      "execution_count": 0,
      "outputs": [
        {
          "output_type": "stream",
          "text": [
            "Set Volume\n"
          ],
          "name": "stdout"
        },
        {
          "output_type": "execute_result",
          "data": {
            "text/plain": [
              "Movement\n",
              "Bench Press    5\n",
              "Front Squat    4\n",
              "Squat          3\n",
              "dtype: int64"
            ]
          },
          "metadata": {
            "tags": []
          },
          "execution_count": 5
        }
      ]
    },
    {
      "cell_type": "code",
      "metadata": {
        "id": "uIIbBU_G2I04",
        "colab_type": "code",
        "outputId": "212ca82f-2342-43ab-c8e9-30a3d354a70a",
        "colab": {
          "base_uri": "https://localhost:8080/",
          "height": 119
        }
      },
      "source": [
        "print(\"Total Repetitions\")\n",
        "\n",
        "df_mvmt.apply(lambda mvmt: np.dot(mvmt[\"Sets\"], mvmt[\"Repetitions\"]))"
      ],
      "execution_count": 0,
      "outputs": [
        {
          "output_type": "stream",
          "text": [
            "Total Repetitions\n"
          ],
          "name": "stdout"
        },
        {
          "output_type": "execute_result",
          "data": {
            "text/plain": [
              "Movement\n",
              "Bench Press    57\n",
              "Front Squat    16\n",
              "Squat          15\n",
              "dtype: int64"
            ]
          },
          "metadata": {
            "tags": []
          },
          "execution_count": 6
        }
      ]
    },
    {
      "cell_type": "markdown",
      "metadata": {
        "id": "eIDRR-HdPINd",
        "colab_type": "text"
      },
      "source": [
        "# One-Rep Maximum Formulas\n",
        "\n",
        "In the following equations, $r$ denotes maximum number of repetitions possible and $w$ denotes weight of training load.\n",
        "\n",
        "### Epley\n",
        "\n",
        "$\\text{1RM} = w \\left( 1 + \\frac{r}{30} \\right)$\n",
        "\n",
        "### Brzycki\n",
        "\n",
        "$\\text{1RM} = w \\cdot \\frac{36}{37 - r}$\n",
        "\n",
        "### McGlothin\n",
        "\n",
        "$\\text{1RM} = \\frac{100w}{101.3 - 2.67123r}$\n",
        "\n",
        "### Lombardi\n",
        "\n",
        "$\\text{1RM} = w\\sqrt[10]{r} = wr^{0.1}$\n",
        "\n",
        "### Mayhew\n",
        "\n",
        "$\\text{1RM} = \\frac{100w}{52.2 + 41.9e^{-0.055r}}$\n",
        "\n",
        "### O'Conner\n",
        "\n",
        "$\\text{1RM} = w \\left( 1 + \\frac{r}{40} \\right)$\n",
        "\n",
        "### Wathen\n",
        "\n",
        "$\\text{1RM} = \\frac{100w}{48.8 + 53.8e^{-0.075r}}$"
      ]
    }
  ]
}