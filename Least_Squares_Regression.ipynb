{
  "nbformat": 4,
  "nbformat_minor": 0,
  "metadata": {
    "colab": {
      "name": "Least Squares Regression.ipynb",
      "provenance": [],
      "include_colab_link": true
    },
    "kernelspec": {
      "name": "python3",
      "display_name": "Python 3"
    }
  },
  "cells": [
    {
      "cell_type": "markdown",
      "metadata": {
        "id": "view-in-github",
        "colab_type": "text"
      },
      "source": [
        "<a href=\"https://colab.research.google.com/github/hinsley/colabs/blob/master/Least_Squares_Regression.ipynb\" target=\"_parent\"><img src=\"https://colab.research.google.com/assets/colab-badge.svg\" alt=\"Open In Colab\"/></a>"
      ]
    },
    {
      "cell_type": "markdown",
      "metadata": {
        "id": "3cBxr6jkCK0y",
        "colab_type": "text"
      },
      "source": [
        "For a linear regression function $y(x) = mx + b$ fitting a set $P$ of points $(x, y)$ in $\\mathbb{R}^2$, $m = \\frac{|P| \\sum(xy) - \\sum(x) \\sum(y)}{|P| \\sum(x^2) - (\\sum(x))^2}$ and $b = \\frac{\\sum(y) - m \\sum(x)}{|P|}$."
      ]
    },
    {
      "cell_type": "code",
      "metadata": {
        "id": "iXPnmB3j_tIs",
        "colab_type": "code",
        "colab": {}
      },
      "source": [
        "from typing import Callable, List, Tuple\n",
        "\n",
        "def line_fit(points: List[Tuple[float, float]]) -> Callable[[float], float]:\n",
        "  len_points = len(points)\n",
        "  sum_xy = 0\n",
        "  sum_x = 0\n",
        "  sum_y = 0\n",
        "  sum_x_squared = 0\n",
        "\n",
        "  for (x, y) in points:\n",
        "    sum_xy += x * y\n",
        "    sum_x += x\n",
        "    sum_y += y\n",
        "    sum_x_squared += x * x\n",
        "  \n",
        "  slope = (len_points * sum_xy - sum_x * sum_y)/(len_points * sum_x_squared - sum_x * sum_x)\n",
        "  offset = (sum_y - slope * sum_x)/len_points\n",
        "\n",
        "  def y(x: float) -> float:\n",
        "    return x * slope + offset\n",
        "\n",
        "  return y"
      ],
      "execution_count": 0,
      "outputs": []
    },
    {
      "cell_type": "code",
      "metadata": {
        "id": "tdZN1g_gC34x",
        "colab_type": "code",
        "colab": {}
      },
      "source": [
        "from random import randint\n",
        "\n",
        "points = [(randint(-i, i), randint(-i, i)) for i in range(100)]\n",
        "\n",
        "y_1 = line_fit(points)"
      ],
      "execution_count": 0,
      "outputs": []
    },
    {
      "cell_type": "code",
      "metadata": {
        "id": "eytA9-oBDamp",
        "colab_type": "code",
        "outputId": "a718bea0-c254-4bf8-f7a8-9884a971dff1",
        "colab": {
          "base_uri": "https://localhost:8080/",
          "height": 268
        }
      },
      "source": [
        "from matplotlib import pyplot as plt\n",
        "import numpy as np\n",
        "\n",
        "plt.scatter(*np.transpose(points))\n",
        "plt.plot([-100, 100], [y_1(-100), y_1(100)])\n",
        "plt.show()"
      ],
      "execution_count": 0,
      "outputs": [
        {
          "output_type": "display_data",
          "data": {
            "image/png": "[encoded data removed]",
            "text/plain": [
              "<Figure size 432x288 with 1 Axes>"
            ]
          },
          "metadata": {
            "tags": []
          }
        }
      ]
    }
  ]
}