{
  "nbformat": 4,
  "nbformat_minor": 0,
  "metadata": {
    "colab": {
      "name": "Coronavirus Projections.ipynb",
      "provenance": [],
      "authorship_tag": "ABX9TyPjtxPdjYHj4k7QuF+rANn+",
      "include_colab_link": true
    },
    "kernelspec": {
      "name": "python3",
      "display_name": "Python 3"
    }
  },
  "cells": [
    {
      "cell_type": "markdown",
      "metadata": {
        "id": "view-in-github",
        "colab_type": "text"
      },
      "source": [
        "<a href=\"https://colab.research.google.com/github/hinsley/colabs/blob/master/Coronavirus_Projections.ipynb\" target=\"_parent\"><img src=\"https://colab.research.google.com/assets/colab-badge.svg\" alt=\"Open In Colab\"/></a>"
      ]
    },
    {
      "cell_type": "code",
      "metadata": {
        "id": "3TqhZAOFexyW",
        "colab_type": "code",
        "colab": {}
      },
      "source": [
        "import numpy as np\n",
        "\n",
        "def sigmoid(x, a=1, b=1, c=1):\n",
        "  \"\"\"\n",
        "  Args:\n",
        "  - x: Time input.\n",
        "  - a: Horizontal translation (positive: right).\n",
        "  - b: Vertical scalar.\n",
        "  - c: Horizontal scalar.\n",
        "  \"\"\"\n",
        "  \n",
        "  return b * (1-1/(1+np.exp(c * (x - a))))"
      ],
      "execution_count": 0,
      "outputs": []
    },
    {
      "cell_type": "code",
      "metadata": {
        "id": "vQHjw7MgfmBA",
        "colab_type": "code",
        "colab": {}
      },
      "source": [
        "# This data begins at February 2, 2020 and is collected from Johns Hopkins\n",
        "# University's live Coronavirus map.\n",
        "# https://coronavirus.jhu.edu/map.html\n",
        "\n",
        "cases_china = np.array([\n",
        "  17.2e3,   # 2020-02-02\n",
        "  19.7e3,   # 2020-02-03\n",
        "  23.7e3,   # 2020-02-04\n",
        "  27.4e3,   # 2020-02-05\n",
        "  30.6e3,   # 2020-02-06\n",
        "  34.1e3,   # 2020-02-07\n",
        "  36.8e3,   # 2020-02-08\n",
        "  39.8e3,   # 2020-02-09\n",
        "  42.3e3,   # 2020-02-10\n",
        "  44.3e3,   # 2020-02-11\n",
        "  44.7e3,   # 2020-02-12\n",
        "  59.8e3,   # 2020-02-13\n",
        "  66.3e3,   # 2020-02-14\n",
        "  68.3e3,   # 2020-02-15\n",
        "  70.4e3,   # 2020-02-16\n",
        "  72.4e3,   # 2020-02-17\n",
        "  74.1e3,   # 2020-02-18\n",
        "  74.5e3,   # 2020-02-19\n",
        "  75.0e3,   # 2020-02-20\n",
        "  75.5e3,   # 2020-02-21\n",
        "  76.9e3,   # 2020-02-22\n",
        "  76.9e3,   # 2020-02-23\n",
        "  77.2e3,   # 2020-02-24\n",
        "  77.7e3,   # 2020-02-25\n",
        "  78.1e3,   # 2020-02-26\n",
        "  78.5e3,   # 2020-02-27\n",
        "  78.8e3,   # 2020-02-28\n",
        "  79.3e3,   # 2020-02-29\n",
        "  79.8e3,   # 2020-03-01\n",
        "  80.0e3,   # 2020-03-02\n",
        "  80.2e3,   # 2020-03-03\n",
        "  80.3e3,   # 2020-03-04\n",
        "  80.4e3,   # 2020-03-05\n",
        "  80.6e3,   # 2020-03-06\n",
        "  80.7e3,   # 2020-03-07\n",
        "  80.7e3,   # 2020-03-08\n",
        "  80.7e3,   # 2020-03-09\n",
        "  80.8e3,   # 2020-03-10\n",
        "  80.9e3,   # 2020-03-11\n",
        "  80.9e3,   # 2020-03-12\n",
        "  80.9e3,   # 2020-03-13\n",
        "  81.0e3,   # 2020-03-14\n",
        "  81.0e3,   # 2020-03-15\n",
        "])\n",
        "\n",
        "cases_not_china = np.array([\n",
        "  18.3e1,   # 2020-02-02\n",
        "  18.8e1,   # 2020-02-03\n",
        "  21.2e1,   # 2020-02-04\n",
        "  22.7e1,   # 2020-02-05\n",
        "  26.5e1,   # 2020-02-06\n",
        "  31.7e1,   # 2020-02-07\n",
        "  34.3e1,   # 2020-02-08\n",
        "  36.1e1,   # 2020-02-09\n",
        "  45.7e1,   # 2020-02-10\n",
        "  47.6e1,   # 2020-02-11\n",
        "  52.3e1,   # 2020-02-12\n",
        "  53.8e1,   # 2020-02-13\n",
        "  59.5e1,   # 2020-02-14\n",
        "  68.5e1,   # 2020-02-15\n",
        "  78.0e1,   # 2020-02-16\n",
        "  89.6e1,   # 2020-02-17\n",
        "  10.0e2,   # 2020-02-18\n",
        "  11.0e2,   # 2020-02-19\n",
        "  12.0e2,   # 2020-02-20\n",
        "  14.0e2,   # 2020-02-21\n",
        "  17.0e2,   # 2020-02-22\n",
        "  20.0e2,   # 2020-02-23\n",
        "  24.0e2,   # 2020-02-24\n",
        "  28.0e2,   # 2020-02-25\n",
        "  33.0e2,   # 2020-02-26\n",
        "  43.0e2,   # 2020-02-27\n",
        "  53.0e2,   # 2020-02-28\n",
        "  68.0e2,   # 2020-02-29\n",
        "  85.0e2,   # 2020-03-01\n",
        "  10.3e3,   # 2020-03-02\n",
        "  12.7e3,   # 2020-03-03\n",
        "  14.9e3,   # 2020-03-04\n",
        "  17.5e3,   # 2020-03-05\n",
        "  21.2e3,   # 2020-03-06\n",
        "  25.2e3,   # 2020-03-07\n",
        "  29.1e3,   # 2020-03-08\n",
        "  32.8e3,   # 2020-03-09\n",
        "  37.8e3,   # 2020-03-10\n",
        "  44.9e3,   # 2020-03-11\n",
        "  47.4e3,   # 2020-03-12\n",
        "  63.6e3,   # 2020-03-13\n",
        "  75.1e3,   # 2020-03-14\n",
        "  81.7e3,   # 2020-03-15\n",
        "])"
      ],
      "execution_count": 0,
      "outputs": []
    },
    {
      "cell_type": "code",
      "metadata": {
        "id": "_qpFMs6WiNtK",
        "colab_type": "code",
        "colab": {}
      },
      "source": [
        "from matplotlib import pyplot as plt"
      ],
      "execution_count": 0,
      "outputs": []
    },
    {
      "cell_type": "code",
      "metadata": {
        "id": "KjiDF8hxleUJ",
        "colab_type": "code",
        "colab": {
          "base_uri": "https://localhost:8080/",
          "height": 279
        },
        "outputId": "48b3b773-1ef4-4186-a6e9-a02703ea6022"
      },
      "source": [
        "plt.plot(cases_china, label=\"China\")\n",
        "plt.plot(cases_not_china, label=\"Other Countries\")\n",
        "\n",
        "plt.xlabel(\"Days since 2 February 2020\")\n",
        "plt.ylabel(\"Cases (Cumulative)\")\n",
        "plt.legend()\n",
        "\n",
        "plt.show()"
      ],
      "execution_count": 50,
      "outputs": [
        {
          "output_type": "display_data",
          "data": {
            "image/png": "[encoded data removed]",
            "text/plain": [
              "<Figure size 432x288 with 1 Axes>"
            ]
          },
          "metadata": {
            "tags": []
          }
        }
      ]
    },
    {
      "cell_type": "code",
      "metadata": {
        "id": "_GC-ByLDlhgI",
        "colab_type": "code",
        "colab": {}
      },
      "source": [
        "from scipy.optimize import curve_fit\n",
        "\n",
        "# Calculate curve fit for cases *outside* of China.\n",
        "initial_guesses = [0, 0, 0]\n",
        "popt, pcov = curve_fit(sigmoid, *zip(*enumerate(cases_not_china)), p0=initial_guesses)\n",
        "curve_not_china = lambda x: sigmoid(x, *popt)"
      ],
      "execution_count": 0,
      "outputs": []
    },
    {
      "cell_type": "code",
      "metadata": {
        "id": "VxtDhK9gnALP",
        "colab_type": "code",
        "colab": {
          "base_uri": "https://localhost:8080/",
          "height": 295
        },
        "outputId": "d8d6cbc6-d15c-443b-f09d-7daf1da82ae6"
      },
      "source": [
        "from datetime import date\n",
        "\n",
        "plt.plot([curve_not_china(x) for x in range(100)], label=\"Outside China, projected\")\n",
        "plt.plot(cases_not_china, label=\"Outside China, actual\")\n",
        "\n",
        "plt.title(f\"Coronavirus Cases ({date.today()})\")\n",
        "plt.xlabel(\"Days since 2 February 2020\")\n",
        "plt.ylabel(\"Cases (Cumulative)\")\n",
        "plt.legend()\n",
        "\n",
        "plt.show()"
      ],
      "execution_count": 62,
      "outputs": [
        {
          "output_type": "display_data",
          "data": {
            "image/png": "[encoded data removed]",
            "text/plain": [
              "<Figure size 432x288 with 1 Axes>"
            ]
          },
          "metadata": {
            "tags": []
          }
        }
      ]
    },
    {
      "cell_type": "code",
      "metadata": {
        "id": "sOk_VriDnSC5",
        "colab_type": "code",
        "colab": {
          "base_uri": "https://localhost:8080/",
          "height": 34
        },
        "outputId": "d60ad7c1-0e0b-4722-e2a2-ea02d31d6a0d"
      },
      "source": [
        "popt"
      ],
      "execution_count": 63,
      "outputs": [
        {
          "output_type": "execute_result",
          "data": {
            "text/plain": [
              "array([5.11065739e+01, 4.89448003e+05, 1.74291877e-01])"
            ]
          },
          "metadata": {
            "tags": []
          },
          "execution_count": 63
        }
      ]
    },
    {
      "cell_type": "markdown",
      "metadata": {
        "id": "Mtnjy1P-1R1y",
        "colab_type": "text"
      },
      "source": [
        "# Finding projective maximum spread rate\n",
        "\n",
        "$\\sigma = b \\left(1 - \\frac{1}{1 + e^{c(x - a)}}\\right)$\n",
        "\n",
        "The maximum spread rate can be found by the spread rate $\\sigma_x(x_\\text{inflection})$ where\n",
        "$\\sigma_{xx}(x_\\text{inflection}) = 0$.\n",
        "\n",
        "$\\sigma_x = -b \\frac{\\partial}{\\partial x} \\frac{1}{1+e^{c(x-a)}}$\n",
        "\n",
        "$= b \\frac{1}{(1+e^{c(x-a)})^2} \\frac{\\partial}{\\partial x}(1+e^{c(x-a)})$\n",
        "\n",
        "$= \\frac{b}{(1+e^{c(x-a)})^2e^{ac}} \\frac{\\partial}{\\partial x}(e^{cx})$\n",
        "\n",
        "$= bc \\frac{e^{c(x-a)}}{(1+e^{c(x-a)})^2}$\n",
        "\n",
        "$= bc \\frac{1 + e^{c(x-a)} - 1}{(1+e^{c(x-a)})^2}$\n",
        "\n",
        "$= bc \\left( \\frac{1}{1 + e^{c(x-a)}} - \\frac{1}{(1+e^{c(x-a)})^2} \\right)$\n",
        "\n",
        "$= bc \\frac{1}{1+e^{c(x-a)}} \\left( 1 - \\frac{1}{1+e^{c(x-a)}} \\right)$\n",
        "\n",
        "$\\sigma_x = \\frac{c}{b} \\sigma (b - \\sigma)$\n",
        "\n",
        "$\\sigma_{xx} = \\frac{c}{b} \\frac{\\partial}{\\partial x}\\left[\\sigma(b-\\sigma)\\right]$\n",
        "\n",
        "$= \\frac{c}{b} \\left[ \\sigma_x (b - \\sigma) - \\sigma \\sigma_{x} \\right]$\n",
        "\n",
        "$\\sigma_{xx} = c (\\sigma_x - \\frac{2}{b}\\sigma \\sigma_x)$\n",
        "\n",
        "From this derivation we can tell that the following equation must be true at the inflection point:\n",
        "\n",
        "$\\sigma_x = \\frac{2}{b} \\sigma \\sigma_x$\n",
        "\n",
        "$\\sigma = \\frac{b}{2}$\n",
        "\n",
        "Returning to our definition of $\\sigma$, we now have that:\n",
        "\n",
        "$e^{c(x-a)} = 1$\n",
        "\n",
        "and thus $x = a$, indicating that the maximum spread rate will be $\\sigma_x(a)$.\n"
      ]
    },
    {
      "cell_type": "code",
      "metadata": {
        "id": "dV5bvqRb0Tyg",
        "colab_type": "code",
        "colab": {}
      },
      "source": [
        "a, b, c = popt\n",
        "\n",
        "sigma = sigmoid(a, *popt)\n",
        "\n",
        "sigma_x = c/b * sigma * (b - sigma)\n",
        "\n",
        "max_daily_growth_rate = int(sigma_x)"
      ],
      "execution_count": 0,
      "outputs": []
    },
    {
      "cell_type": "code",
      "metadata": {
        "id": "4_9ZhzNF8FNm",
        "colab_type": "code",
        "colab": {
          "base_uri": "https://localhost:8080/",
          "height": 34
        },
        "outputId": "19fcc9b9-bed9-49a9-f05b-7fa3cfecd9e6"
      },
      "source": [
        "from datetime import datetime, timedelta\n",
        "\n",
        "day_zero = datetime(2020, 2, 2, 0, 0)\n",
        "max_growth_date = day_zero + timedelta(days=int(a))\n",
        "\n",
        "print(f\"Maximum Projected Growth Rate: {max_daily_growth_rate} new cases on {max_growth_date.strftime('%d %B %Y')}.\")"
      ],
      "execution_count": 85,
      "outputs": [
        {
          "output_type": "stream",
          "text": [
            "Maximum Projected Growth Rate: 21326 new cases on 24 March 2020.\n"
          ],
          "name": "stdout"
        }
      ]
    },
    {
      "cell_type": "code",
      "metadata": {
        "id": "P4s7ZkKF8vr-",
        "colab_type": "code",
        "colab": {}
      },
      "source": [
        ""
      ],
      "execution_count": 0,
      "outputs": []
    }
  ]
}